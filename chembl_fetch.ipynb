{
  "nbformat": 4,
  "nbformat_minor": 0,
  "metadata": {
    "colab": {
      "provenance": []
    },
    "kernelspec": {
      "name": "python3",
      "display_name": "Python 3"
    },
    "language_info": {
      "name": "python"
    }
  },
  "cells": [
    {
      "cell_type": "code",
      "source": [
        "!pip install rdkit-pypi chembl_webresource_client pandas\n"
      ],
      "metadata": {
        "id": "0-Ir3_RNcfwn"
      },
      "execution_count": null,
      "outputs": []
    },
    {
      "cell_type": "code",
      "source": [
        "from chembl_webresource_client.new_client import new_client\n",
        "import pandas as pd\n",
        "from rdkit import Chem\n",
        "from rdkit.Chem import Descriptors\n",
        "from rdkit.Chem.FilterCatalog import *\n",
        "\n",
        "# Initialize ChEMBL client\n",
        "activity = new_client.activity\n",
        "\n",
        "# Fetch activities; remove the slice to attempt fetching all data\n",
        "activities = activity.filter(target_chembl_id='CHEMBL279', pchembl_value__isnull=False).order_by('-pchembl_value')\n",
        "\n",
        "# Define filtering function\n",
        "def filter_compounds(activities):\n",
        "    compounds = []\n",
        "    for act in activities:\n",
        "        chembl_id = act.get('molecule_chembl_id')\n",
        "        smiles = act.get('canonical_smiles')\n",
        "        pchembl_value = act.get('pchembl_value')\n",
        "\n",
        "        if chembl_id and smiles:\n",
        "            try:\n",
        "                mol = Chem.MolFromSmiles(smiles)\n",
        "                if mol:  # Ensure molecule could be parsed\n",
        "                    compounds.append({\n",
        "                        'chembl_id': chembl_id,\n",
        "                        'smiles': smiles,\n",
        "                        'pchembl_value': pchembl_value,\n",
        "                        'mol': mol\n",
        "                    })\n",
        "            except Exception as e:\n",
        "                print(f\"Failed to process molecule {chembl_id}: {e}\")\n",
        "\n",
        "    df = pd.DataFrame(compounds)\n",
        "    if df.empty:\n",
        "        return df\n",
        "\n",
        "    # Calculate molecular descriptors needed for filtering\n",
        "    df['mw'] = df['mol'].apply(Descriptors.MolWt)\n",
        "    df['logp'] = df['mol'].apply(Descriptors.MolLogP)\n",
        "    df['tpsa'] = df['mol'].apply(Descriptors.TPSA)\n",
        "    df['hba'] = df['mol'].apply(Descriptors.NumHAcceptors)\n",
        "    df['hbd'] = df['mol'].apply(Descriptors.NumHDonors)\n",
        "    df['rot_bonds'] = df['mol'].apply(Descriptors.NumRotatableBonds)\n",
        "\n",
        "    # Apply combined filtering criteria\n",
        "    df_filtered = df[(df['mw'] <= 300) & (df['tpsa'] <= 140) & (df['rot_bonds'] <= 10) &\n",
        "          (df['logp'] <= 3) & (df['hbd'] <= 3) & (df['hba'] <= 3)]\n",
        "\n",
        "    # PAINS filtering\n",
        "    params = FilterCatalogParams()\n",
        "    params.AddCatalog(FilterCatalogParams.FilterCatalogs.PAINS)\n",
        "    catalog = FilterCatalog(params)\n",
        "    df_filtered['is_pains'] = df_filtered['mol'].apply(lambda x: not catalog.HasMatch(x))\n",
        "\n",
        "    return df_filtered[df_filtered['is_pains']]\n",
        "\n",
        "# Filter compounds\n",
        "final_df = filter_compounds(activities)\n",
        "if len(final_df) < 100:\n",
        "    print(\"Less than 100 valid compounds found after filtering.\")\n",
        "\n",
        "# Sort by pChEMBL value (most potent first) and select top 200\n",
        "final_df = final_df.sort_values(by='pchembl_value', ascending=False).head(200)\n",
        "\n",
        "# Save to CSV\n",
        "final_df[['chembl_id', 'smiles', 'pchembl_value']].to_csv('top_potent_vegf2.csv', index=False)\n",
        "\n",
        "# Output some of the results\n",
        "print(final_df[['chembl_id', 'smiles', 'pchembl_value']])\n"
      ],
      "metadata": {
        "id": "PuT_jqzK9fuW"
      },
      "execution_count": null,
      "outputs": []
    },
    {
      "cell_type": "code",
      "execution_count": null,
      "metadata": {
        "id": "qmvfBSIVbbVE"
      },
      "outputs": [],
      "source": [
        "import pandas as pd\n",
        "\n",
        "df = pd.read_csv('top_potent.csv')\n",
        "df = df.drop_duplicates(subset = ['chembl_id'], keep = 'first')\n",
        "df = df.sort_values(by='pchembl_value', ascending=False)\n",
        "df = df.head(100)\n",
        "df = df.to_csv('Sorted100jak2.csv', index=False)\n"
      ]
    },
    {
      "cell_type": "code",
      "source": [
        "import pandas as pd\n",
        "from rdkit import Chem\n",
        "from rdkit.Chem import PandasTools\n",
        "\n",
        "# Load your DataFrame (assuming it's already loaded as df)\n",
        "df = pd.read_csv('Sorted100jak2.csv')  # Uncomment and modify if needed\n",
        "\n",
        "# Add an RDKit molecule column from SMILES\n",
        "PandasTools.AddMoleculeColumnToFrame(df, smilesCol='smiles', molCol='Mol')\n",
        "\n",
        "# Define properties to include in the SDF (optional)\n",
        "properties = list(df.columns)\n",
        "properties.remove('Mol')  # Exclude the molecule column from properties\n",
        "\n",
        "# Write to SDF\n",
        "writer = Chem.SDWriter('output_jak2.sdf')\n",
        "for _, row in df.iterrows():\n",
        "    mol = row['Mol']\n",
        "    if mol is not None:\n",
        "        # Set properties as molecule attributes\n",
        "        for prop in properties:\n",
        "            if pd.notna(row[prop]):\n",
        "                mol.SetProp(prop, str(row[prop]))\n",
        "        writer.write(mol)\n",
        "writer.close()\n",
        "\n",
        "print(\"SDF file created successfully.\")\n"
      ],
      "metadata": {
        "id": "JT3NhW2hCJ5y"
      },
      "execution_count": null,
      "outputs": []
    }
  ]
}