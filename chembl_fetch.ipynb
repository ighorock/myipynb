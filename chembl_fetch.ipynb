{
  "nbformat": 4,
  "nbformat_minor": 0,
  "metadata": {
    "colab": {
      "provenance": [],
      "authorship_tag": "ABX9TyPfYJHkyPFNbjIzLfTko0Dr",
      "include_colab_link": true
    },
    "kernelspec": {
      "name": "python3",
      "display_name": "Python 3"
    },
    "language_info": {
      "name": "python"
    }
  },
  "cells": [
    {
      "cell_type": "markdown",
      "metadata": {
        "id": "view-in-github",
        "colab_type": "text"
      },
      "source": [
        "<a href=\"https://colab.research.google.com/github/ighorock/ripynb/blob/main/chembl_fetch.ipynb\" target=\"_parent\"><img src=\"https://colab.research.google.com/assets/colab-badge.svg\" alt=\"Open In Colab\"/></a>"
      ]
    },
    {
      "cell_type": "code",
      "source": [
        "!pip install rdkit-pypi chembl_webresource_client pandas\n"
      ],
      "metadata": {
        "id": "0-Ir3_RNcfwn"
      },
      "execution_count": null,
      "outputs": []
    },
    {
      "cell_type": "code",
      "source": [
        "from chembl_webresource_client.new_client import new_client\n",
        "import pandas as pd\n",
        "from rdkit import Chem\n",
        "from rdkit.Chem import Descriptors\n",
        "from rdkit.Chem.FilterCatalog import *\n",
        "\n",
        "# Initialize ChEMBL client\n",
        "activity = new_client.activity\n",
        "\n",
        "# Fetch activities; remove the slice to attempt fetching all data\n",
        "activities = activity.filter(target_chembl_id='CHEMBL279', pchembl_value__isnull=False).order_by('-pchembl_value')\n",
        "\n",
        "# Define filtering function\n",
        "def filter_compounds(activities):\n",
        "    compounds = []\n",
        "    for act in activities:\n",
        "        chembl_id = act.get('molecule_chembl_id')\n",
        "        smiles = act.get('canonical_smiles')\n",
        "        pchembl_value = act.get('pchembl_value')\n",
        "\n",
        "        if chembl_id and smiles:\n",
        "            try:\n",
        "                mol = Chem.MolFromSmiles(smiles)\n",
        "                if mol:  # Ensure molecule could be parsed\n",
        "                    compounds.append({\n",
        "                        'chembl_id': chembl_id,\n",
        "                        'smiles': smiles,\n",
        "                        'pchembl_value': pchembl_value,\n",
        "                        'mol': mol\n",
        "                    })\n",
        "            except Exception as e:\n",
        "                print(f\"Failed to process molecule {chembl_id}: {e}\")\n",
        "\n",
        "    df = pd.DataFrame(compounds)\n",
        "    if df.empty:\n",
        "        return df\n",
        "\n",
        "    # Calculate molecular descriptors needed for filtering\n",
        "    df['mw'] = df['mol'].apply(Descriptors.MolWt)\n",
        "    df['logp'] = df['mol'].apply(Descriptors.MolLogP)\n",
        "    df['tpsa'] = df['mol'].apply(Descriptors.TPSA)\n",
        "    df['hba'] = df['mol'].apply(Descriptors.NumHAcceptors)\n",
        "    df['hbd'] = df['mol'].apply(Descriptors.NumHDonors)\n",
        "    df['rot_bonds'] = df['mol'].apply(Descriptors.NumRotatableBonds)\n",
        "\n",
        "    # Apply combined filtering criteria\n",
        "    df_filtered = df[(df['mw'] <= 300) & (df['tpsa'] <= 140) & (df['rot_bonds'] <= 10) &\n",
        "          (df['logp'] <= 3) & (df['hbd'] <= 3) & (df['hba'] <= 3)]\n",
        "\n",
        "    # PAINS filtering\n",
        "    params = FilterCatalogParams()\n",
        "    params.AddCatalog(FilterCatalogParams.FilterCatalogs.PAINS)\n",
        "    catalog = FilterCatalog(params)\n",
        "    df_filtered['is_pains'] = df_filtered['mol'].apply(lambda x: not catalog.HasMatch(x))\n",
        "\n",
        "    return df_filtered[df_filtered['is_pains']]\n",
        "\n",
        "# Filter compounds\n",
        "final_df = filter_compounds(activities)\n",
        "if len(final_df) < 100:\n",
        "    print(\"Less than 100 valid compounds found after filtering.\")\n",
        "\n",
        "# Sort by pChEMBL value (most potent first) and select top 200\n",
        "final_df = final_df.sort_values(by='pchembl_value', ascending=False).head(200)\n",
        "\n",
        "# Save to CSV\n",
        "final_df[['chembl_id', 'smiles', 'pchembl_value']].to_csv('top_potent_vegf2.csv', index=False)\n",
        "\n",
        "# Output some of the results\n",
        "print(final_df[['chembl_id', 'smiles', 'pchembl_value']])\n"
      ],
      "metadata": {
        "colab": {
          "base_uri": "https://localhost:8080/"
        },
        "id": "PuT_jqzK9fuW",
        "outputId": "c76d6c73-9af8-4fa3-f8c4-71dbd9b26336"
      },
      "execution_count": null,
      "outputs": [
        {
          "output_type": "stream",
          "name": "stdout",
          "text": [
            "Less than 100 valid compounds found after filtering.\n",
            "           chembl_id                                      smiles pchembl_value\n",
            "2979     CHEMBL89363  Cc1c[nH]c(/C=C2\\C(=O)Nc3ccccc32)c1CCC(=O)O          7.70\n",
            "3010     CHEMBL89363  Cc1c[nH]c(/C=C2\\C(=O)Nc3ccccc32)c1CCC(=O)O          7.70\n",
            "3042     CHEMBL89363  Cc1c[nH]c(/C=C2\\C(=O)Nc3ccccc32)c1CCC(=O)O          7.70\n",
            "4397     CHEMBL89363  Cc1c[nH]c(/C=C2\\C(=O)Nc3ccccc32)c1CCC(=O)O          7.30\n",
            "4809    CHEMBL383417   Nc1c(-c2nc3ccccc3[nH]2)c(=O)[nH]c2ccccc12          7.24\n",
            "...              ...                                         ...           ...\n",
            "11788   CHEMBL451401                      NC(=O)c1cccc2cn[nH]c12          4.30\n",
            "11793  CHEMBL2001539                    c1cc2c(s1)CCc1cn[nH]c1-2          4.30\n",
            "11796  CHEMBL1991008                Nc1n[nH]c2c(-c3ccccc3)cccc12          4.30\n",
            "11797  CHEMBL1965683                   c1ccc(C2CCc3[nH]ncc32)cc1          4.30\n",
            "11814  CHEMBL2001613                   O=c1[nH][nH]c2ccc(Br)cc12          4.20\n",
            "\n",
            "[65 rows x 3 columns]\n"
          ]
        },
        {
          "output_type": "stream",
          "name": "stderr",
          "text": [
            "<ipython-input-23-8f92d4c446d7>:54: SettingWithCopyWarning: \n",
            "A value is trying to be set on a copy of a slice from a DataFrame.\n",
            "Try using .loc[row_indexer,col_indexer] = value instead\n",
            "\n",
            "See the caveats in the documentation: https://pandas.pydata.org/pandas-docs/stable/user_guide/indexing.html#returning-a-view-versus-a-copy\n",
            "  df_filtered['is_pains'] = df_filtered['mol'].apply(lambda x: not catalog.HasMatch(x))\n"
          ]
        }
      ]
    },
    {
      "cell_type": "code",
      "execution_count": null,
      "metadata": {
        "id": "qmvfBSIVbbVE"
      },
      "outputs": [],
      "source": [
        "import pandas as pd\n",
        "\n",
        "df = pd.read_csv('top_potent.csv')\n",
        "df = df.drop_duplicates(subset = ['chembl_id'], keep = 'first')\n",
        "df = df.sort_values(by='pchembl_value', ascending=False)\n",
        "df = df.head(100)\n",
        "df = df.to_csv('Sorted100jak2.csv', index=False)\n"
      ]
    },
    {
      "cell_type": "code",
      "source": [
        "import pandas as pd\n",
        "from rdkit import Chem\n",
        "from rdkit.Chem import PandasTools\n",
        "\n",
        "# Load your DataFrame (assuming it's already loaded as df)\n",
        "df = pd.read_csv('Sorted100jak2.csv')  # Uncomment and modify if needed\n",
        "\n",
        "# Add an RDKit molecule column from SMILES\n",
        "PandasTools.AddMoleculeColumnToFrame(df, smilesCol='smiles', molCol='Mol')\n",
        "\n",
        "# Define properties to include in the SDF (optional)\n",
        "properties = list(df.columns)\n",
        "properties.remove('Mol')  # Exclude the molecule column from properties\n",
        "\n",
        "# Write to SDF\n",
        "writer = Chem.SDWriter('output_jak2.sdf')\n",
        "for _, row in df.iterrows():\n",
        "    mol = row['Mol']\n",
        "    if mol is not None:\n",
        "        # Set properties as molecule attributes\n",
        "        for prop in properties:\n",
        "            if pd.notna(row[prop]):\n",
        "                mol.SetProp(prop, str(row[prop]))\n",
        "        writer.write(mol)\n",
        "writer.close()\n",
        "\n",
        "print(\"SDF file created successfully.\")\n"
      ],
      "metadata": {
        "colab": {
          "base_uri": "https://localhost:8080/"
        },
        "id": "JT3NhW2hCJ5y",
        "outputId": "2a41fcc6-1206-4dd2-e4aa-feb4df3fd3c8"
      },
      "execution_count": null,
      "outputs": [
        {
          "output_type": "stream",
          "name": "stdout",
          "text": [
            "SDF file created successfully.\n"
          ]
        }
      ]
    }
  ]
}