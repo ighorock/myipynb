{
  "nbformat": 4,
  "nbformat_minor": 0,
  "metadata": {
    "colab": {
      "provenance": []
    },
    "kernelspec": {
      "name": "ir",
      "display_name": "R"
    },
    "language_info": {
      "name": "R"
    }
  },
  "cells": [
    {
      "cell_type": "markdown",
      "source": [
        "# Новий розділ"
      ],
      "metadata": {
        "id": "Ypo2u1wk1L0z"
      }
    },
    {
      "cell_type": "markdown",
      "source": [
        "Спочатку ця клітинка, запускати і далі **УВАЖНО!!** читати інструкції"
      ],
      "metadata": {
        "id": "C4tWdx58vrDr"
      }
    },
    {
      "cell_type": "code",
      "source": [
        "# Install and load the necessary package\n",
        "install.packages(\"usethis\")\n",
        "library(usethis)\n",
        "\n",
        "# Specify the GitHub repository URL\n",
        "repo_url <- \"https://github.com/PacktPublishing/R-Bioinformatics-Cookbook.git\"  # Replace with the actual repository URL\n",
        "\n",
        "# Clone the repository using system commands\n",
        "system(sprintf(\"git clone %s\", repo_url), intern = TRUE)\n",
        "setwd('/content/R-Bioinformatics-Cookbook')"
      ],
      "metadata": {
        "colab": {
          "base_uri": "https://localhost:8080/",
          "height": 104
        },
        "id": "fbmPguHmoXqa",
        "outputId": "a67b8d6d-364c-47ee-de22-7b80723821e6"
      },
      "execution_count": null,
      "outputs": [
        {
          "output_type": "stream",
          "name": "stderr",
          "text": [
            "Installing package into ‘/usr/local/lib/R/site-library’\n",
            "(as ‘lib’ is unspecified)\n",
            "\n",
            "Warning message in system(sprintf(\"git clone %s\", repo_url), intern = TRUE):\n",
            "“running command 'git clone https://github.com/PacktPublishing/R-Bioinformatics-Cookbook.git' had status 128”\n"
          ]
        },
        {
          "output_type": "display_data",
          "data": {
            "text/html": [],
            "text/markdown": "",
            "text/latex": "",
            "text/plain": [
              "character(0)\n",
              "attr(,\"status\")\n",
              "[1] 128\n",
              "attr(,\"errmsg\")\n",
              "[1] \"Resource temporarily unavailable\""
            ]
          },
          "metadata": {}
        }
      ]
    },
    {
      "cell_type": "markdown",
      "source": [
        "Далі тут будуть коменти і назви проектів з кукбук, ваші скрипти повинні працювати прям з гітхабу, нічо не змінюючи, окрім додавання рядків з інсталлюванням пакаджів\n",
        "\n",
        "\n",
        "скрипти тут: https://github.com/PacktPublishing/R-Bioinformatics-Cookbook\n",
        "в папках chapter шукайте свій рецепт, нижче приклад, треба **вставити комірку з кодом** і туди просто свій скрипт вставити\n",
        "\n",
        "\n",
        "**Підписуйте** свої проекти над комірками з кодом, **вставляючи** комірку з текстом\n",
        "\n",
        "Також беріть до уваги що пакаджи будуть грузитись доволі таки довго і це **нормально**"
      ],
      "metadata": {
        "id": "UnYrQ24oTNln"
      }
    },
    {
      "cell_type": "code",
      "source": [
        "#приклад рядків встановлення\n",
        "if (!require(\"BiocManager\", quietly = TRUE))\n",
        "    install.packages(\"BiocManager\")\n",
        "\n",
        "BiocManager::install(\"Змінити_на_назву_свого_пакедж\")\n",
        "#або, якщо це не біокондактор, а таке наче рідко бувало\n",
        "install.packages(\"Змінити_на_назву_свого_пакедж\")"
      ],
      "metadata": {
        "id": "0XXe6cNi2WTz",
        "colab": {
          "base_uri": "https://localhost:8080/"
        },
        "outputId": "ba040cfb-0b5e-4988-f5c3-1a7e47912746"
      },
      "execution_count": null,
      "outputs": [
        {
          "output_type": "stream",
          "name": "stderr",
          "text": [
            "'getOption(\"repos\")' replaces Bioconductor standard repositories, see\n",
            "'help(\"repositories\", package = \"BiocManager\")' for details.\n",
            "Replacement repositories:\n",
            "    CRAN: https://cran.rstudio.com\n",
            "\n",
            "Bioconductor version 3.18 (BiocManager 1.30.22), R 4.3.2 (2023-10-31)\n",
            "\n",
            "Installing package(s) 'Змінити_на_назву_свого_пакедж'\n",
            "\n",
            "Warning message:\n",
            "\"package 'Змінити_на_назву_свого_пакедж' is not available for Bioconductor version '3.18'\n",
            "\n",
            "A version of this package for your version of R might be available elsewhere,\n",
            "see the ideas at\n",
            "https://cran.r-project.org/doc/manuals/r-patched/R-admin.html#Installing-packages\"\n",
            "Old packages: 'bit', 'brio', 'bslib', 'cli', 'cpp11', 'curl', 'data.table',\n",
            "  'desc', 'devtools', 'fansi', 'gargle', 'gert', 'haven', 'highr', 'isoband',\n",
            "  'jsonlite', 'openssl', 'pkgbuild', 'processx', 'progress', 'ragg',\n",
            "  'roxygen2', 'sass', 'scales', 'stringi', 'svglite', 'testthat',\n",
            "  'textshaping', 'vctrs', 'vroom', 'whisker', 'xml2', 'yaml', 'boot',\n",
            "  'cluster', 'Matrix', 'nlme', 'rpart'\n",
            "\n",
            "Installing package into '/usr/local/lib/R/site-library'\n",
            "(as 'lib' is unspecified)\n",
            "\n",
            "Warning message:\n",
            "\"package 'Змінити_на_назву_свого_пакедж' is not available for this version of R\n",
            "\n",
            "A version of this package for your version of R might be available elsewhere,\n",
            "see the ideas at\n",
            "https://cran.r-project.org/doc/manuals/r-patched/R-admin.html#Installing-packages\"\n"
          ]
        }
      ]
    },
    {
      "cell_type": "markdown",
      "source": [
        "Вставляючи ваші скрипти, не забувайте **додати рядки, в яких відбувається встановлення бібліотек**, так як в гіт їх не написали"
      ],
      "metadata": {
        "id": "JQeJF8Cy0aDK"
      }
    },
    {
      "cell_type": "markdown",
      "source": [
        "# Plotting features on genetic maps with karyoploteR"
      ],
      "metadata": {
        "id": "yWVJXxl4T1xX"
      }
    },
    {
      "cell_type": "code",
      "execution_count": null,
      "metadata": {
        "id": "IgnQvcQlS9e7",
        "colab": {
          "base_uri": "https://localhost:8080/",
          "height": 1000
        },
        "outputId": "3caf6f5b-a51f-4b08-cf62-794d4a9441d9"
      },
      "outputs": [
        {
          "output_type": "stream",
          "name": "stderr",
          "text": [
            "'getOption(\"repos\")' replaces Bioconductor standard repositories, see\n",
            "'help(\"repositories\", package = \"BiocManager\")' for details.\n",
            "Replacement repositories:\n",
            "    CRAN: https://cran.rstudio.com\n",
            "\n",
            "Bioconductor version 3.18 (BiocManager 1.30.22), R 4.3.2 (2023-10-31)\n",
            "\n",
            "Installing package(s) 'karyoploteR'\n",
            "\n",
            "also installing the dependencies ‘formatR’, ‘lambda.r’, ‘futile.options’, ‘checkmate’, ‘htmlwidgets’, ‘abind’, ‘SparseArray’, ‘filelock’, ‘matrixStats’, ‘futile.logger’, ‘snow’, ‘BH’, ‘rjson’, ‘gridExtra’, ‘htmlTable’, ‘viridis’, ‘Formula’, ‘S4Arrays’, ‘DelayedArray’, ‘ProtGenerics’, ‘lazyeval’, ‘plogr’, ‘BiocFileCache’, ‘png’, ‘BSgenome’, ‘Biostrings’, ‘BiocGenerics’, ‘XVector’, ‘zlibbioc’, ‘bitops’, ‘BiocParallel’, ‘Rhtslib’, ‘XML’, ‘RCurl’, ‘GenomicAlignments’, ‘BiocIO’, ‘restfulr’, ‘GenomeInfoDbData’, ‘Hmisc’, ‘dichromat’, ‘SummarizedExperiment’, ‘ensembldb’, ‘AnnotationFilter’, ‘RSQLite’, ‘biomaRt’, ‘Biobase’, ‘KEGGREST’, ‘MatrixGenerics’, ‘regioneR’, ‘GenomicRanges’, ‘IRanges’, ‘Rsamtools’, ‘rtracklayer’, ‘GenomeInfoDb’, ‘S4Vectors’, ‘biovizBase’, ‘bezier’, ‘GenomicFeatures’, ‘bamsignals’, ‘AnnotationDbi’, ‘VariantAnnotation’\n",
            "\n",
            "\n",
            "Old packages: 'bit', 'brio', 'bslib', 'cli', 'cpp11', 'curl', 'data.table',\n",
            "  'desc', 'devtools', 'fansi', 'gargle', 'gert', 'haven', 'highr', 'isoband',\n",
            "  'jsonlite', 'openssl', 'pkgbuild', 'processx', 'progress', 'ragg',\n",
            "  'roxygen2', 'sass', 'scales', 'stringi', 'svglite', 'testthat',\n",
            "  'textshaping', 'vctrs', 'vroom', 'whisker', 'xml2', 'yaml', 'boot',\n",
            "  'cluster', 'Matrix', 'nlme', 'rpart'\n",
            "\n",
            "'getOption(\"repos\")' replaces Bioconductor standard repositories, see\n",
            "'help(\"repositories\", package = \"BiocManager\")' for details.\n",
            "Replacement repositories:\n",
            "    CRAN: https://cran.rstudio.com\n",
            "\n",
            "Bioconductor version 3.18 (BiocManager 1.30.22), R 4.3.2 (2023-10-31)\n",
            "\n",
            "Warning message:\n",
            "“package(s) not installed when version(s) same as or greater than current; use\n",
            "  `force = TRUE` to re-install: 'GenomicRanges'”\n",
            "Old packages: 'bit', 'brio', 'bslib', 'cli', 'cpp11', 'curl', 'data.table',\n",
            "  'desc', 'devtools', 'fansi', 'gargle', 'gert', 'haven', 'highr', 'isoband',\n",
            "  'jsonlite', 'openssl', 'pkgbuild', 'processx', 'progress', 'ragg',\n",
            "  'roxygen2', 'sass', 'scales', 'stringi', 'svglite', 'testthat',\n",
            "  'textshaping', 'vctrs', 'vroom', 'whisker', 'xml2', 'yaml', 'boot',\n",
            "  'cluster', 'Matrix', 'nlme', 'rpart'\n",
            "\n",
            "Loading required package: regioneR\n",
            "\n",
            "Loading required package: GenomicRanges\n",
            "\n",
            "Loading required package: stats4\n",
            "\n",
            "Loading required package: BiocGenerics\n",
            "\n",
            "\n",
            "Attaching package: ‘BiocGenerics’\n",
            "\n",
            "\n",
            "The following objects are masked from ‘package:dplyr’:\n",
            "\n",
            "    combine, intersect, setdiff, union\n",
            "\n",
            "\n",
            "The following objects are masked from ‘package:stats’:\n",
            "\n",
            "    IQR, mad, sd, var, xtabs\n",
            "\n",
            "\n",
            "The following objects are masked from ‘package:base’:\n",
            "\n",
            "    anyDuplicated, aperm, append, as.data.frame, basename, cbind,\n",
            "    colnames, dirname, do.call, duplicated, eval, evalq, Filter, Find,\n",
            "    get, grep, grepl, intersect, is.unsorted, lapply, Map, mapply,\n",
            "    match, mget, order, paste, pmax, pmax.int, pmin, pmin.int,\n",
            "    Position, rank, rbind, Reduce, rownames, sapply, setdiff, sort,\n",
            "    table, tapply, union, unique, unsplit, which.max, which.min\n",
            "\n",
            "\n",
            "Loading required package: S4Vectors\n",
            "\n",
            "\n",
            "Attaching package: ‘S4Vectors’\n",
            "\n",
            "\n",
            "The following objects are masked from ‘package:dplyr’:\n",
            "\n",
            "    first, rename\n",
            "\n",
            "\n",
            "The following object is masked from ‘package:utils’:\n",
            "\n",
            "    findMatches\n",
            "\n",
            "\n",
            "The following objects are masked from ‘package:base’:\n",
            "\n",
            "    expand.grid, I, unname\n",
            "\n",
            "\n",
            "Loading required package: IRanges\n",
            "\n",
            "\n",
            "Attaching package: ‘IRanges’\n",
            "\n",
            "\n",
            "The following objects are masked from ‘package:dplyr’:\n",
            "\n",
            "    collapse, desc, slice\n",
            "\n",
            "\n",
            "Loading required package: GenomeInfoDb\n",
            "\n",
            "\n",
            "Attaching package: ‘GenomicRanges’\n",
            "\n",
            "\n",
            "The following object is masked from ‘package:magrittr’:\n",
            "\n",
            "    subtract\n",
            "\n",
            "\n",
            "No predefined canonical chromosomes found for the requested genome. Applying a heuristic chromosome filtering.\n",
            "\n",
            "To get the unfiltered genome, please set chromosomes=\"all\" in the plotKaryotype call\n",
            "\n",
            "No predefined canonical chromosomes found for the requested genome. Applying a heuristic chromosome filtering.\n",
            "\n",
            "To get the unfiltered genome, please set chromosomes=\"all\" in the plotKaryotype call\n",
            "\n"
          ]
        },
        {
          "output_type": "display_data",
          "data": {
            "text/plain": [
              "plot without title"
            ],
            "image/png": "[encoded data removed]"
          },
          "metadata": {
            "image/png": {
              "width": 420,
              "height": 420
            }
          }
        },
        {
          "output_type": "display_data",
          "data": {
            "text/plain": [
              "plot without title"
            ],
            "image/png": "[encoded data removed]"
          },
          "metadata": {
            "image/png": {
              "width": 420,
              "height": 420
            }
          }
        }
      ],
      "source": [
        "##тут буде код\n",
        "if (!requireNamespace(\"BiocManager\", quietly = TRUE))\n",
        "    install.packages(\"BiocManager\")\n",
        "  BiocManager::install(\"karyoploteR\")\n",
        "   BiocManager::install(\"GenomicRanges\")\n",
        "\n",
        "\n",
        "\n",
        "library(karyoploteR)\n",
        "library(GenomicRanges)\n",
        "\n",
        "genome_df <- data.frame(\n",
        "  chr = paste0(\"chr\", 1:5),\n",
        "  start = rep(1, 5),\n",
        "  end = c(34964571, 22037565, 25499034, 20862711, 31270811)\n",
        ")\n",
        "genome_gr <- makeGRangesFromDataFrame(genome_df)\n",
        "\n",
        "snp_pos <- sample(1:1e7, 25)\n",
        "snps <- data.frame(\n",
        "  chr = paste0(\"chr\", sample(1:5,25, replace=TRUE)),\n",
        "  start = snp_pos,\n",
        "  end = snp_pos\n",
        ")\n",
        "snps_gr <- makeGRangesFromDataFrame(snps)\n",
        "snp_labels <- paste0(\"snp_\", 1:25)\n",
        "\n",
        "plot.params <- getDefaultPlotParams(plot.type=1)\n",
        "plot.params$data1outmargin <- 600\n",
        "\n",
        "kp <- plotKaryotype(genome=genome_gr, plot.type = 1, plot.params = plot.params)\n",
        "kpPlotMarkers(kp, snps_gr, labels = snp_labels)\n",
        "\n",
        "\n",
        "### додатково....\n",
        "\n",
        "numeric_data <- data.frame(\n",
        "  y = rnorm(100,mean = 1,sd = 0.5  ),\n",
        "  chr = rep(\"chr4\", 100),\n",
        "  start = seq(1,20862711, 20862711/100),\n",
        "  end = seq(1,20862711, 20862711/100)\n",
        ")\n",
        "\n",
        "\n",
        "numeric_data_gr <- makeGRangesFromDataFrame(numeric_data)\n",
        "\n",
        "plot.params <- getDefaultPlotParams(plot.type=2)\n",
        "plot.params$data1outmargin <- 800\n",
        "plot.params$data2outmargin <- 800\n",
        "plot.params$topmargin <- 800\n",
        "\n",
        "kp <- plotKaryotype(genome=genome_gr, plot.type = 2, plot.params = plot.params)\n",
        "kpPlotMarkers(kp, snps_gr, labels = snp_labels)\n",
        "kpLines(kp, numeric_data_gr, y = numeric_data$y, data.panel=2)"
      ]
    },
    {
      "cell_type": "markdown",
      "source": [
        "знов якийсь код\n",
        "\n",
        "\n",
        "# Predicting open reading frames in long\n",
        "reference sequences"
      ],
      "metadata": {
        "id": "RIVj84nus48a"
      }
    },
    {
      "cell_type": "code",
      "source": [
        "BiocManager::install(\"systemPipeR\")\n",
        "BiocManager::install(\"Biostrings\")\n",
        "library(Biostrings)\n",
        "library(systemPipeR)\n",
        "dna_object <- readDNAStringSet(file.path(getwd(), \"datasets\",\"ch2\", \"arabidopsis_chloroplast.fa\"))\n",
        "\n",
        "predicted_orfs <- predORF(dna_object, n = 'all', type = 'gr', mode='ORF', strand = 'both', longest_disjoint = TRUE)\n",
        "predicted_orfs\n",
        "\n",
        "\n",
        "bases <- c(\"A\", \"C\", \"T\", \"G\")\n",
        "raw_seq_string <- strsplit(as.character(dna_object), \"\")\n",
        "\n",
        "seq_length <- width(dna_object[1])\n",
        "counts <- lapply(bases, function(x) {sum(grepl(x, raw_seq_string))}  )\n",
        "probs <- unlist(lapply(counts, function(base_count){signif(base_count / seq_length, 2) }))\n",
        "\n",
        "get_longest_orf_in_random_genome <- function(x,\n",
        "                                             length = 1000,\n",
        "                                             probs = c(0.25, 0.25, 0.25, 0.25),\n",
        "                                             bases = c(\"A\",\"C\",\"T\",\"G\")){\n",
        "\n",
        "  random_genome <- paste0(sample(bases, size = length, replace = TRUE, prob = probs), collapse = \"\")\n",
        "  random_dna_object <- DNAStringSet(random_genome)\n",
        "  names(random_dna_object) <- c(\"random_dna_string\")\n",
        "  orfs <- predORF(random_dna_object, n = 1, type = 'gr', mode='ORF', strand = 'both', longest_disjoint = TRUE)\n",
        "  return(max(width(orfs)))\n",
        "}\n",
        "\n",
        "random_lengths <- unlist(lapply(1:10, get_longest_orf_in_random_genome, length = seq_length, probs = probs, bases = bases))\n",
        "longest_random_orf <- max(random_lengths)\n",
        "keep <- width(predicted_orfs) > longest_random_orf\n",
        "orfs_to_keep <- predicted_orfs[keep]\n",
        "orfs_to_keep\n",
        "\n",
        "##writing to file\n",
        "extracted_orfs <- BSgenome::getSeq(dna_object, orfs_to_keep)\n",
        "names(extracted_orfs) <- paste0(\"orf_\", 1:length(orfs_to_keep))\n",
        "writeXStringSet(extracted_orfs, \"saved_orfs.fa\")"
      ],
      "metadata": {
        "id": "OfIo1cphgIzW"
      },
      "execution_count": null,
      "outputs": []
    },
    {
      "cell_type": "markdown",
      "source": [
        "#Splitting sequence files into operational taxonomic units"
      ],
      "metadata": {
        "id": "7byzYTC5C6ef"
      }
    },
    {
      "cell_type": "code",
      "source": [
        "if (!require(\"BiocManager\", quietly = TRUE))\n",
        "    install.packages(\"BiocManager\")\n",
        "\n",
        "BiocManager::install(\"kmer\")\n",
        "BiocManager::install(\"magrittr\")\n",
        "library(kmer)\n",
        "library(magrittr)\n",
        "library(dplyr)  # Load the dplyr package explicitly\n",
        "\n",
        "seqs <- ape::read.fastq(file.path(getwd(),\"datasets\",\"ch5\",\"fq\",\"SRR9040914ab.fq.gz\"))\n",
        "otu_vec <- otu(seqs, k = 6, threshold = 0.99 )\n",
        "\n",
        "# Create a data frame with the results\n",
        "result_df <- data.frame(seqid = names(otu_vec), cluster = otu_vec, row.names = NULL)\n",
        "\n",
        "# Use dplyr to group by cluster and summarize\n",
        "result_summary <- result_df %>%\n",
        "  group_by(cluster) %>%\n",
        "  summarize(count = dplyr::n())\n",
        "\n",
        "# Print the result summary\n",
        "print(result_summary)\n"
      ],
      "metadata": {
        "id": "CgKuy4pOAUFl"
      },
      "execution_count": null,
      "outputs": []
    },
    {
      "cell_type": "markdown",
      "source": [
        "# Converting MS formats to move data between tools"
      ],
      "metadata": {
        "id": "Kdtg8OlaE9qk"
      }
    },
    {
      "cell_type": "code",
      "source": [
        "if (!require(\"BiocManager\", quietly = TRUE))\n",
        "    install.packages(\"BiocManager\")\n",
        "\n",
        "BiocManager::install(\"mzR\")\n",
        "library(mzR)\n",
        "mzxml_file <- file.path(getwd(), \"datasets\", \"ch6\", \"threonine_i2_e35_pH_tree.mzXML\")\n",
        "mzdata <- openMSfile(mzxml_file)\n",
        "header_info <- header(mzdata)\n",
        "peak_data_list <- spectra(mzdata) #must be a list - if only one spectrum, remember to wrap it in list()\n",
        "writeMSData(peak_data_list, file.path(getwd(), \"datasets\", \"ch6\", \"out.mz\"), header = header_info, outformat = \"mzml\", rtime_seconds = TRUE ) #can import mzml mzxml and mzdata and export mzml and mzxml"
      ],
      "metadata": {
        "id": "tfqLe2jdFDBn"
      },
      "execution_count": null,
      "outputs": []
    },
    {
      "cell_type": "code",
      "source": [
        "install.packages(\"tidyverse\")\n",
        "if (!require(\"BiocManager\", quietly = TRUE))\n",
        "    install.packages(\"BiocManager\")\n",
        "\n",
        "BiocManager::install(\"SummarizedExperiment\")\n",
        "BiocManager::install(\"DESeq2\")\n",
        "\n",
        "# Load required libraries\n",
        "library(tidyverse)\n",
        "library(DESeq2)\n",
        "library(SummarizedExperiment)\n",
        "\n",
        "count_dataframe <- readr::read_tsv(file.path(getwd(), \"datasets\", \"ch1\", \"modencodefly_count_table.txt\" ))\n",
        "genes <- count_dataframe[['gene']]\n",
        "count_dataframe[['gene']] <- NULL\n",
        "count_matrix <- as.matrix(count_dataframe)\n",
        "rownames(count_matrix) <- genes\n",
        "\n",
        "pheno_data <- readr::read_table2(file.path(getwd(), \"datasets\", \"ch1\", \"modencodefly_phenodata.txt\"))\n",
        "\n",
        "experiments_of_interest <- c(\"L1Larvae\", \"L2Larvae\")\n",
        "columns_of_interest <- which( pheno_data[['stage']] %in%\n",
        "experiments_of_interest )\n",
        "\n",
        "library(magrittr)\n",
        "grouping <- pheno_data[['stage']][columns_of_interest] %>%\n",
        " forcats::as_factor()\n",
        "\n",
        "counts_of_interest <- count_matrix[, columns_of_interest]\n",
        "\n",
        "# DESeq2 analysis\n",
        "library(\"DESeq2\")\n",
        "dds <- DESeqDataSetFromMatrix(countData = counts_of_interest,\n",
        " colData = grouping,\n",
        " design = ~ stage)\n",
        "\n",
        "\n",
        "dds <- DESeq(dds)\n",
        "res <- results(dds, contrast = c(\"stage\", \"L2Larvae\", \"L1Larvae\"))\n",
        "\n",
        "# SummarizedExperiment analysis\n",
        "load(file.path(getwd(), \"datasets/ch1/modencodefly_eset.RData\"))\n",
        "summ_exp <- makeSummarizedExperimentFromExpressionSet(modencodefly.eset)\n",
        "ddsSE <- DESeqDataSet(summ_exp, design = ~ stage)\n",
        "\n",
        "ddsSE <- DESeq(ddsSE)\n",
        "resSE <- results(ddsSE, contrast = c(\"stage\", \"L2Larvae\", \"L1Larvae\"))\n"
      ],
      "metadata": {
        "id": "GPs-VRRalVYo"
      },
      "execution_count": null,
      "outputs": []
    },
    {
      "cell_type": "code",
      "source": [
        "resSE"
      ],
      "metadata": {
        "colab": {
          "base_uri": "https://localhost:8080/",
          "height": 106
        },
        "id": "nOHcjPRgmEM6",
        "outputId": "f02382a5-f285-4939-88df-cc444db5ba4f"
      },
      "execution_count": null,
      "outputs": [
        {
          "output_type": "error",
          "ename": "ERROR",
          "evalue": "ignored",
          "traceback": [
            "Error in eval(expr, envir, enclos): object 'resSE' not found\nTraceback:\n"
          ]
        }
      ]
    },
    {
      "cell_type": "markdown",
      "source": [
        "#Estimating differential expression with edgeR"
      ],
      "metadata": {
        "id": "ZEN7NWKuz0_p"
      }
    },
    {
      "cell_type": "code",
      "source": [
        "if (!require(\"BiocManager\", quietly = TRUE))\n",
        "    install.packages(\"BiocManager\")\n",
        "BiocManager::install(\"edgeR\")\n",
        "if (!require(\"BiocManager\", quietly = TRUE))\n",
        "    install.packages(\"BiocManager\")\n",
        "BiocManager::install(\"readr\")\n",
        "if (!require(\"BiocManager\", quietly = TRUE))\n",
        "    install.packages(\"BiocManager\")\n",
        "BiocManager::install(\"magrittr\")\n",
        "\n",
        "\n",
        "count_dataframe <- readr::read_tsv(file.path(getwd(), \"datasets\", \"ch1\", \"modencodefly_count_table.txt\" ))\n",
        "genes <- count_dataframe[['gene']]\n",
        "count_dataframe[['gene']] <- NULL\n",
        "count_matrix <- as.matrix(count_dataframe)\n",
        "rownames(count_matrix) <- genes\n",
        "pheno_data <- readr::read_table2(file.path(getwd(), \"datasets\", \"ch1\", \"modencodefly_phenodata.txt\"))\n",
        "\n",
        "\n",
        "experiments_of_interest <- c(\"L1Larvae\", \"L2Larvae\")\n",
        "columns_of_interest <- which( pheno_data[['stage']] %in% experiments_of_interest ) #gives the numeric indices of the above experiments in the matrix\n",
        "\n",
        "\n",
        "library(magrittr)\n",
        "grouping <- pheno_data[['stage']][columns_of_interest] %>%\n",
        "  forcats::as_factor()\n",
        "\n",
        "counts_of_interest <-  count_matrix[,columns_of_interest]\n",
        "\n",
        "library(edgeR)\n",
        "count_dge <- edgeR::DGEList(counts = counts_of_interest, group = grouping)\n",
        "\n",
        "design <- model.matrix(~ grouping)\n",
        "eset_dge <- edgeR::estimateDisp(count_dge, design)\n",
        "fit <- edgeR::glmQLFit(eset_dge, design)\n",
        "result <- edgeR::glmQLFTest(fit, coef=2)\n",
        "topTags(result)\n"
      ],
      "metadata": {
        "colab": {
          "base_uri": "https://localhost:8080/",
          "height": 1000
        },
        "id": "p4rLS-xV2tQX",
        "outputId": "3123b7db-e59b-47b8-d587-31e35acdf5b0"
      },
      "execution_count": null,
      "outputs": [
        {
          "output_type": "stream",
          "name": "stderr",
          "text": [
            "'getOption(\"repos\")' replaces Bioconductor standard repositories, see\n",
            "'help(\"repositories\", package = \"BiocManager\")' for details.\n",
            "Replacement repositories:\n",
            "    CRAN: https://cran.rstudio.com\n",
            "\n",
            "Bioconductor version 3.18 (BiocManager 1.30.22), R 4.3.2 (2023-10-31)\n",
            "\n",
            "Warning message:\n",
            "“package(s) not installed when version(s) same as or greater than current; use\n",
            "  `force = TRUE` to re-install: 'edgeR'”\n",
            "Old packages: 'bit', 'brio', 'bslib', 'cli', 'cpp11', 'curl', 'data.table',\n",
            "  'desc', 'devtools', 'fansi', 'gargle', 'gert', 'haven', 'highr', 'isoband',\n",
            "  'jsonlite', 'openssl', 'pkgbuild', 'processx', 'progress', 'ragg',\n",
            "  'roxygen2', 'sass', 'scales', 'stringi', 'svglite', 'testthat',\n",
            "  'textshaping', 'vctrs', 'vroom', 'whisker', 'xml2', 'yaml', 'boot',\n",
            "  'cluster', 'Matrix', 'nlme', 'rpart'\n",
            "\n",
            "'getOption(\"repos\")' replaces Bioconductor standard repositories, see\n",
            "'help(\"repositories\", package = \"BiocManager\")' for details.\n",
            "Replacement repositories:\n",
            "    CRAN: https://cran.rstudio.com\n",
            "\n",
            "Bioconductor version 3.18 (BiocManager 1.30.22), R 4.3.2 (2023-10-31)\n",
            "\n",
            "Warning message:\n",
            "“package(s) not installed when version(s) same as or greater than current; use\n",
            "  `force = TRUE` to re-install: 'readr'”\n",
            "Old packages: 'bit', 'brio', 'bslib', 'cli', 'cpp11', 'curl', 'data.table',\n",
            "  'desc', 'devtools', 'fansi', 'gargle', 'gert', 'haven', 'highr', 'isoband',\n",
            "  'jsonlite', 'openssl', 'pkgbuild', 'processx', 'progress', 'ragg',\n",
            "  'roxygen2', 'sass', 'scales', 'stringi', 'svglite', 'testthat',\n",
            "  'textshaping', 'vctrs', 'vroom', 'whisker', 'xml2', 'yaml', 'boot',\n",
            "  'cluster', 'Matrix', 'nlme', 'rpart'\n",
            "\n",
            "'getOption(\"repos\")' replaces Bioconductor standard repositories, see\n",
            "'help(\"repositories\", package = \"BiocManager\")' for details.\n",
            "Replacement repositories:\n",
            "    CRAN: https://cran.rstudio.com\n",
            "\n",
            "Bioconductor version 3.18 (BiocManager 1.30.22), R 4.3.2 (2023-10-31)\n",
            "\n",
            "Warning message:\n",
            "“package(s) not installed when version(s) same as or greater than current; use\n",
            "  `force = TRUE` to re-install: 'magrittr'”\n",
            "Old packages: 'bit', 'brio', 'bslib', 'cli', 'cpp11', 'curl', 'data.table',\n",
            "  'desc', 'devtools', 'fansi', 'gargle', 'gert', 'haven', 'highr', 'isoband',\n",
            "  'jsonlite', 'openssl', 'pkgbuild', 'processx', 'progress', 'ragg',\n",
            "  'roxygen2', 'sass', 'scales', 'stringi', 'svglite', 'testthat',\n",
            "  'textshaping', 'vctrs', 'vroom', 'whisker', 'xml2', 'yaml', 'boot',\n",
            "  'cluster', 'Matrix', 'nlme', 'rpart'\n",
            "\n"
          ]
        },
        {
          "output_type": "error",
          "ename": "ERROR",
          "evalue": "ignored",
          "traceback": [
            "Error: '/content/datasets/ch1/modencodefly_count_table.txt' does not exist.\nTraceback:\n",
            "1. readr::read_tsv(file.path(getwd(), \"datasets\", \"ch1\", \"modencodefly_count_table.txt\"))",
            "2. vroom::vroom(file, delim = \"\\t\", col_names = col_names, col_types = col_types, \n .     col_select = {\n .         {\n .             col_select\n .         }\n .     }, id = id, .name_repair = name_repair, skip = skip, n_max = n_max, \n .     na = na, quote = quote, comment = comment, skip_empty_rows = skip_empty_rows, \n .     trim_ws = trim_ws, escape_double = TRUE, escape_backslash = FALSE, \n .     locale = locale, guess_max = guess_max, show_col_types = show_col_types, \n .     progress = progress, altrep = lazy, num_threads = num_threads)",
            "3. vroom_(file, delim = delim %||% col_types$delim, col_names = col_names, \n .     col_types = col_types, id = id, skip = skip, col_select = col_select, \n .     name_repair = .name_repair, na = na, quote = quote, trim_ws = trim_ws, \n .     escape_double = escape_double, escape_backslash = escape_backslash, \n .     comment = comment, skip_empty_rows = skip_empty_rows, locale = locale, \n .     guess_max = guess_max, n_max = n_max, altrep = vroom_altrep(altrep), \n .     num_threads = num_threads, progress = progress)",
            "4. (function (path, write = FALSE) \n . {\n .     if (is.raw(path)) {\n .         return(rawConnection(path, \"rb\"))\n .     }\n .     if (!is.character(path)) {\n .         return(path)\n .     }\n .     if (is_url(path)) {\n .         if (requireNamespace(\"curl\", quietly = TRUE)) {\n .             con <- curl::curl(path)\n .         }\n .         else {\n .             inform(\"`curl` package not installed, falling back to using `url()`\")\n .             con <- url(path)\n .         }\n .         ext <- tolower(tools::file_ext(path))\n .         return(switch(ext, zip = , bz2 = , xz = {\n .             close(con)\n .             stop(\"Reading from remote `\", ext, \"` compressed files is not supported,\\n\", \n .                 \"  download the files locally first.\", call. = FALSE)\n .         }, gz = gzcon(con), con))\n .     }\n .     path <- enc2utf8(path)\n .     p <- split_path_ext(basename_utf8(path))\n .     if (write) {\n .         path <- normalizePath_utf8(path, mustWork = FALSE)\n .     }\n .     else {\n .         path <- check_path(path)\n .     }\n .     if (is_installed(\"archive\")) {\n .         formats <- archive_formats(p$extension)\n .         extension <- p$extension\n .         while (is.null(formats) && nzchar(extension)) {\n .             extension <- split_path_ext(extension)$extension\n .             formats <- archive_formats(extension)\n .         }\n .         if (!is.null(formats)) {\n .             p$extension <- extension\n .             if (write) {\n .                 if (is.null(formats[[1]])) {\n .                   return(archive::file_write(path, filter = formats[[2]]))\n .                 }\n .                 return(archive::archive_write(path, p$path, format = formats[[1]], \n .                   filter = formats[[2]]))\n .             }\n .             if (is.null(formats[[1]])) {\n .                 return(archive::file_read(path, filter = formats[[2]]))\n .             }\n .             return(archive::archive_read(path, format = formats[[1]], \n .                 filter = formats[[2]]))\n .         }\n .     }\n .     if (!write) {\n .         compression <- detect_compression(path)\n .     }\n .     else {\n .         compression <- NA\n .     }\n .     if (is.na(compression)) {\n .         compression <- tools::file_ext(path)\n .     }\n .     if (write && compression == \"zip\") {\n .         stop(\"Can only read from, not write to, .zip\", call. = FALSE)\n .     }\n .     switch(compression, gz = gzfile(path, \"\"), bz2 = bzfile(path, \n .         \"\"), xz = xzfile(path, \"\"), zip = zipfile(path, \"\"), \n .         if (!has_trailing_newline(path)) {\n .             file(path)\n .         } else {\n .             path\n .         })\n . })(\"/content/datasets/ch1/modencodefly_count_table.txt\")",
            "5. check_path(path)",
            "6. stop(\"'\", path, \"' does not exist\", if (!is_absolute_path(path)) {\n .     paste0(\" in current working directory ('\", getwd(), \"')\")\n . }, \".\", call. = FALSE)"
          ]
        }
      ]
    },
    {
      "cell_type": "markdown",
      "source": [
        "#Selecting and classifying variants with VariantAnnotation\n",
        "\n",
        "# Значення методу\n",
        "\n",
        "Призначення: Класичним етапом біоінформатичних досліджень є фільтрація та класифікація та фільтрація окремих варіантів на основі їх певних особливостей. Для цього данізберігають у VCF-файли.Прикладом ознаки, за якою відфільтровують варіанти є глибина покриття(кількість зчитувань) альтернативного алелю у вибірці.\n",
        "\n",
        "Мета:Здійснити формування вихідного VCF-файлу, та провести його фільтрацію з наступним отриманням вибірок в яких альтернативний алель є основним.\n",
        "\n",
        "# Ключові етапи:\n",
        "\n",
        "1\\. Завантаження та встановлення необхідних пакетів\n",
        "\n",
        "2.Формування перфільтру\n",
        "\n",
        "3.Формування фільтру\n",
        "\n",
        "4.Створення VCF-файлу\n",
        "\n",
        "5.Застосуванню префільтру і фільтру до VCF-файлу\n",
        "\n",
        "# 1.Завантаження та встановлення необхідних пакетів\n",
        "\n",
        "Встановлюємо пакет \"Biocunductor\" у його останній версії, за допомогою його менеджера для установики \"BiocManager\", якщо це необхідно.Встановюємо пакет \"VarianAnnotation\",(якщо це необхідно) який буде використаний для подальшого аналізу. Завантажуємо бібліотеку \"VarianAnnotation\".\n",
        "\n",
        "```{r}\n",
        "if (!requireNamespace(\"BiocManager\"))\n",
        "  install.packages(\"BiocManager\")\n",
        "BiocManager::install(version = \"3.18\")\n",
        "\n",
        "BiocManager::install(\"VarianAnnotation\")\n",
        "\n",
        "library(VariantAnnotation)\n",
        "```\n",
        "\n",
        "# 1.1.Створення функції префільтру\n",
        "\n",
        "Створюємо функція liis_not_microsat, яка перевіряє, чи в рядку x не міститься рядок \"microsat\" і повертає здані про зразок лише у разі відсутності даної ознаки.Це досягається завдяки викоритсанню функції grepl, з логічним оператором !(НЕ).\n",
        "\n",
        "```{r}\n",
        "liis_not_microsat <- function(x){ !grepl(\"microsat\", x, fixed =TRUE)}\n",
        "```\n",
        "\n",
        "# 1.2. Завантажння функцію префільтра в об'єкт FilterRules\n",
        "\n",
        "Створюємо об'єкт FilterRules з назвою \"microsat\" та функцією is_not_microsat #для prefilters. FilterRules є функцією, яка створює об'єкт правил фільтрації #для використання в подальших операціях фільтрації даних.\n",
        "\n",
        "```{r}\n",
        "prefilters<-FilterRules(list(microsat = liis_not_microsat))\n",
        "```\n",
        "\n",
        "# 2.1.Створення функції фільтра\n",
        "\n",
        "Створюємо функцію major_alt, яка визначає, чи референсний алель є головним варіантом у менше ніж половині вибірок.\n",
        "\n",
        "```{r}\n",
        "major_alt <- function(x){\n",
        "  af <- info(x)$AF ## also geno() fixed()\n",
        "  result <- unlist(lapply(af, function(x){x[1] < 0.5}))\n",
        "  return(result)\n",
        "}\n",
        "```\n",
        "\n",
        "# 2.2. Завантажння функцію фільтра в об'єкт FilterRules\n",
        "\n",
        "Створюємо об'єкт FilterRules з назвою \"alt_is_major\" та функцією major_alt для фільтрації варіантів.\n",
        "\n",
        "```{r}\n",
        "filters <- FilterRules(list(alt_is_major = major_alt))\n",
        "```\n",
        "\n",
        "# 3.Завантаження VCF-файлу та застосування фільтрів:\n",
        "\n",
        "Створюємо шлях до VCF-файлу в папці \"ch2\".\n",
        "\n",
        "```{r}\n",
        "vcf_file <- file.path(getwd(), \"ch2\", \"sample.vcf.gz\")\n",
        "```\n",
        "\n",
        "# 4.Застосування фільтрів для завантаженого VCF-файлу\n",
        "\n",
        "Функцію filterVcf використовуємо ядля завантаження VCF-файлу, застосування попередніх фільтрів (prefilters) та фільтрів для варіантів (filters), і збереження результату у файл \"filtered\\_.vcf\".\n",
        "\n",
        "```{r}\n",
        "filterVcf(vcf_file, \"hg17\", \"filtered.vcf40\", prefilters = prefilters,\n",
        "          filters = filters)\n",
        "```\n",
        "\n",
        "# Висновок:\n",
        "\n",
        "Створення VCF-файлів та фільтрів до ним використовується для ефективного варіантів за конкретною ознакою, в даному випадку за озкауою переважання кількості альтернативного алеля. Це досягається у 4 ключові етапи: формування перфільтру, формування фільтру, створення VCF-файлу та застосуванню до нього префільтру і фільтру.\n"
      ],
      "metadata": {
        "id": "seweCzBjGAts"
      }
    },
    {
      "cell_type": "code",
      "source": [
        "\n",
        "if (!require(\"BiocManager\", quietly = TRUE))\n",
        "    install.packages(\"BiocManager\")\n",
        "\n",
        "BiocManager::install(\"VariantAnnotation\")\n",
        "\n",
        "library(VariantAnnotation)\n",
        "\n",
        "\n",
        "is_not_microsat <- function(x){ !grepl(\"microsat\", x, fixed = TRUE)}\n",
        "\n",
        "prefilters <- FilterRules(list(microsat = is_not_microsat) )\n",
        "\n",
        "major_alt <- function(x){\n",
        "  af <- info(x)$AF ## also geno() fixed()\n",
        "  result <- unlist(lapply(af, function(x){x[1] < 0.5}))\n",
        "  return(result)\n",
        "}\n",
        "filters <- FilterRules(list(alt_is_major = major_alt))\n",
        "\n",
        "vcf_file <- file.path(getwd(), \"datasets\", \"ch2\", \"sample.vcf.gz\")\n",
        "filterVcf(vcf_file, \"hg17\", \"filtered.vcf\", prefilters = prefilters, filters = filters)\n"
      ],
      "metadata": {
        "colab": {
          "base_uri": "https://localhost:8080/"
        },
        "outputId": "c67b11c1-5751-45bb-aa44-b3222c660953",
        "id": "uWehY2AJR0Sr"
      },
      "execution_count": null,
      "outputs": [
        {
          "output_type": "stream",
          "name": "stderr",
          "text": [
            "'getOption(\"repos\")' replaces Bioconductor standard repositories, see\n",
            "'help(\"repositories\", package = \"BiocManager\")' for details.\n",
            "Replacement repositories:\n",
            "    CRAN: https://cran.rstudio.com\n",
            "\n",
            "Bioconductor version 3.18 (BiocManager 1.30.22), R 4.3.2 (2023-10-31)\n",
            "\n",
            "Installing package(s) 'VariantAnnotation'\n",
            "\n",
            "also installing the dependencies ‘formatR’, ‘lambda.r’, ‘futile.options’, ‘filelock’, ‘abind’, ‘SparseArray’, ‘futile.logger’, ‘snow’, ‘BH’, ‘plogr’, ‘png’, ‘rjson’, ‘BiocFileCache’, ‘matrixStats’, ‘RCurl’, ‘GenomeInfoDbData’, ‘S4Arrays’, ‘DelayedArray’, ‘bitops’, ‘BiocParallel’, ‘RSQLite’, ‘KEGGREST’, ‘XML’, ‘GenomicAlignments’, ‘BiocIO’, ‘restfulr’, ‘biomaRt’, ‘BiocGenerics’, ‘MatrixGenerics’, ‘GenomeInfoDb’, ‘GenomicRanges’, ‘SummarizedExperiment’, ‘Rsamtools’, ‘zlibbioc’, ‘Biobase’, ‘S4Vectors’, ‘IRanges’, ‘XVector’, ‘Biostrings’, ‘AnnotationDbi’, ‘rtracklayer’, ‘BSgenome’, ‘GenomicFeatures’, ‘Rhtslib’\n",
            "\n",
            "\n",
            "Old packages: 'bit', 'brio', 'bslib', 'cli', 'cpp11', 'curl', 'data.table',\n",
            "  'desc', 'devtools', 'fansi', 'gargle', 'gert', 'haven', 'highr', 'isoband',\n",
            "  'jsonlite', 'openssl', 'pkgbuild', 'processx', 'progress', 'ragg',\n",
            "  'roxygen2', 'sass', 'scales', 'stringi', 'svglite', 'testthat',\n",
            "  'textshaping', 'vctrs', 'vroom', 'whisker', 'xml2', 'yaml', 'boot',\n",
            "  'cluster', 'Matrix', 'nlme', 'rpart'\n",
            "\n",
            "Loading required package: BiocGenerics\n",
            "\n",
            "\n",
            "Attaching package: ‘BiocGenerics’\n",
            "\n",
            "\n",
            "The following objects are masked from ‘package:stats’:\n",
            "\n",
            "    IQR, mad, sd, var, xtabs\n",
            "\n",
            "\n",
            "The following objects are masked from ‘package:base’:\n",
            "\n",
            "    anyDuplicated, aperm, append, as.data.frame, basename, cbind,\n",
            "    colnames, dirname, do.call, duplicated, eval, evalq, Filter, Find,\n",
            "    get, grep, grepl, intersect, is.unsorted, lapply, Map, mapply,\n",
            "    match, mget, order, paste, pmax, pmax.int, pmin, pmin.int,\n",
            "    Position, rank, rbind, Reduce, rownames, sapply, setdiff, sort,\n",
            "    table, tapply, union, unique, unsplit, which.max, which.min\n",
            "\n",
            "\n",
            "Loading required package: MatrixGenerics\n",
            "\n",
            "Loading required package: matrixStats\n",
            "\n",
            "\n",
            "Attaching package: ‘MatrixGenerics’\n",
            "\n",
            "\n",
            "The following objects are masked from ‘package:matrixStats’:\n",
            "\n",
            "    colAlls, colAnyNAs, colAnys, colAvgsPerRowSet, colCollapse,\n",
            "    colCounts, colCummaxs, colCummins, colCumprods, colCumsums,\n",
            "    colDiffs, colIQRDiffs, colIQRs, colLogSumExps, colMadDiffs,\n",
            "    colMads, colMaxs, colMeans2, colMedians, colMins, colOrderStats,\n",
            "    colProds, colQuantiles, colRanges, colRanks, colSdDiffs, colSds,\n",
            "    colSums2, colTabulates, colVarDiffs, colVars, colWeightedMads,\n",
            "    colWeightedMeans, colWeightedMedians, colWeightedSds,\n",
            "    colWeightedVars, rowAlls, rowAnyNAs, rowAnys, rowAvgsPerColSet,\n",
            "    rowCollapse, rowCounts, rowCummaxs, rowCummins, rowCumprods,\n",
            "    rowCumsums, rowDiffs, rowIQRDiffs, rowIQRs, rowLogSumExps,\n",
            "    rowMadDiffs, rowMads, rowMaxs, rowMeans2, rowMedians, rowMins,\n",
            "    rowOrderStats, rowProds, rowQuantiles, rowRanges, rowRanks,\n",
            "    rowSdDiffs, rowSds, rowSums2, rowTabulates, rowVarDiffs, rowVars,\n",
            "    rowWeightedMads, rowWeightedMeans, rowWeightedMedians,\n",
            "    rowWeightedSds, rowWeightedVars\n",
            "\n",
            "\n",
            "Loading required package: GenomeInfoDb\n",
            "\n",
            "Loading required package: S4Vectors\n",
            "\n",
            "Loading required package: stats4\n",
            "\n",
            "\n",
            "Attaching package: ‘S4Vectors’\n",
            "\n",
            "\n",
            "The following object is masked from ‘package:utils’:\n",
            "\n",
            "    findMatches\n",
            "\n",
            "\n",
            "The following objects are masked from ‘package:base’:\n",
            "\n",
            "    expand.grid, I, unname\n",
            "\n",
            "\n",
            "Loading required package: IRanges\n",
            "\n",
            "Loading required package: GenomicRanges\n",
            "\n",
            "Loading required package: SummarizedExperiment\n",
            "\n",
            "Loading required package: Biobase\n",
            "\n",
            "Welcome to Bioconductor\n",
            "\n",
            "    Vignettes contain introductory material; view with\n",
            "    'browseVignettes()'. To cite Bioconductor, see\n",
            "    'citation(\"Biobase\")', and for packages 'citation(\"pkgname\")'.\n",
            "\n",
            "\n",
            "\n",
            "Attaching package: ‘Biobase’\n",
            "\n",
            "\n",
            "The following object is masked from ‘package:MatrixGenerics’:\n",
            "\n",
            "    rowMedians\n",
            "\n",
            "\n",
            "The following objects are masked from ‘package:matrixStats’:\n",
            "\n",
            "    anyMissing, rowMedians\n",
            "\n",
            "\n",
            "Loading required package: Rsamtools\n",
            "\n",
            "Loading required package: Biostrings\n",
            "\n",
            "Loading required package: XVector\n",
            "\n",
            "\n",
            "Attaching package: ‘Biostrings’\n",
            "\n",
            "\n",
            "The following object is masked from ‘package:base’:\n",
            "\n",
            "    strsplit\n",
            "\n",
            "\n",
            "\n",
            "Attaching package: ‘VariantAnnotation’\n",
            "\n",
            "\n",
            "The following object is masked from ‘package:base’:\n",
            "\n",
            "    tabulate\n",
            "\n",
            "\n",
            "starting prefilter\n",
            "\n",
            "prefiltering 9 records\n",
            "\n",
            "prefiltered to /tmp/RtmprdmxpQ/file28ebab717e\n",
            "\n",
            "prefilter compressing and indexing ‘/tmp/RtmprdmxpQ/file28ebab717e’\n",
            "\n",
            "starting filter\n",
            "\n",
            "filtering 8 records\n",
            "\n",
            "completed filtering\n",
            "\n"
          ]
        }
      ]
    },
    {
      "cell_type": "markdown",
      "source": [
        "# *Rarefying counts and correcting for sample differences using metacoder*\n",
        "\n",
        "# Значення методу\n",
        "\n",
        "Призначення: Метагеномний аналіз націлений на аналіз кількості і різноманіття видів у піддослідних зразках.При проведенні ПЛР та секвенування, задля збору метагеномних даних, однією з помилок є різна кількість зчитувань окремих зразків межах одного циклу секвенування. Це призводить до сильного спотворення результатів дослідження, адже теким чином для зразків з більшою кількістью зчитувань збільшується вірогідність детекції рідкісних такоснів, в резульатів ми спостерігаємо штучне збільшення різноманіття в ньому.Для заподігання цьому артефакту використвоують метод рарифікації(розрідження).\n",
        "\n",
        "Мета: Нормалізувати секвеновані зразки на основі зразка з мінімальною кількістью зчитувань для можливості подальшого аналізу і порівняння.\n",
        "\n",
        "# Основні етапи:\n",
        "\n",
        "1\\. Завантаження та встановлення необхідних для роботи пакетів.\n",
        "\n",
        "2.  Завантаження даних для аналізу.\n",
        "\n",
        "3\\. Створення гістограми для перевірки розподілу кількості OTU counts у вибірках\n",
        "\n",
        "4\\. Рарифікація зразків\n",
        "\n",
        "# 1.Завантаження та встановлення необхідних пакетів\n",
        "\n",
        "Встановлюємо пакет \"Biocunductor\" у його останній версії, за допомогою його менеджера для установики \"BiocManager\", якщо це необхідно.Встановюємо пакет \"metacode\", (якщо це необхідно) який буде використаний для подальшого аналізу. Завантажуємо бібліотеку \"metacoder\".\n",
        "\n",
        "```{r}\n",
        "if (!requireNamespace(\"metacoder\"))\n",
        "if (!requireNamespace(\"BiocManager\"))\n",
        "  install.packages(\"BiocManager\")\n",
        "BiocManager::install(version = \"3.18\")\n",
        "\n",
        "if (!requireNamespace(\"metacoder\"))\n",
        "  install.packages(\"metacoder\")\n",
        "BiocManager::install(\"metacoder\")\n",
        "\n",
        "library(metacoder)\n",
        "```\n",
        "\n",
        "# 2.Завантажуємо дані для аналізу\n",
        "\n",
        "Cтворюємо шлях до файлу \"rich_high_count_otu.biom\"в поточні робочій директорії, зберігаючі дані у biom_file . Далі функція parse_qiime_biom використовуюється для обробки biom_file що знаходиться в QIIME форматі. Отримані дані зберігаємо в змінній taxdata, завдяки чому вони стають доступними для роботи в metacoder.\n",
        "\n",
        "```{r}\n",
        "biom_file<- file.path(getwd(), \"rich_high_count_otu.biom\")\n",
        "\n",
        "taxdata <- parse_qiime_biom(biom_file)\n",
        "```\n",
        "\n",
        "# 3.Створюємо гістограму для перевірки розподілу кількості OTU counts у вибірках:\n",
        "\n",
        "Ми створюємо символьний вектор імен зразків за допомогою функції paste(), і вилучаємо іменні індекси зі значеннями що містять стовпці в таблиці otu_table. За допомогою виразу 'otu_table' ми отримуємо самі значення OTU-таблиці з об'єкта taxdata\\$data. Функція colSums() проводить обрахунки кільксті OTU в кожній вибірці, і зберігає данні у вектор hist_data. Далі за допомогою функції hist ми будуємо гістограму, і додаємо криву щільності з використанням функції lines.\n",
        "\n",
        "```{r}\n",
        "sample_ids <- paste0(\"Sample\", 1:6)\n",
        "taxdata$data$otu_table\n",
        "\n",
        "hist_data <- colSums(taxdata$data$otu_table[, sample_ids])\n",
        "hist(hist_data, prob= TRUE, breaks=3)\n",
        "lines(density(hist_data, adjust = 2), col=\"blue\")\n",
        "```\n",
        "\n",
        "# 4.Використовуємо функцію рарифікації та відфільтровуємо малопоширені OTU(Operational Taxonomic Units), які можуть виникати\n",
        "\n",
        "За допомогою функції raryfy_obs ми проводимо рарифікацію даних з OTU-таблиціРезультати рарифікації зберігаємо у змінній taxdata$data$rarefied_otus. Викликається функція rarefy_obs для рарифікації OTU-таблиці. Результат зберігається у змінній taxdata$data$rarefied_otus.Створюється логічний вектор low_otu_index, який вказує,які OTUs мають суму кількостей менше або рівно 20. Викликається функція filter_obs для відфільтрування OTUs на основі low_otu_index, ! є висволом інверсії. Результат зберігається у змінній taxdata$data$rarefied_otus.\n",
        "\n",
        "```{r}\n",
        "taxdata$data$rarefied_otus <- rarefy_obs(taxdata, \"otu_table\",\n",
        "                                         other_cols = TRUE)\n",
        "low_otu_index <- rowSums(taxdata$data$rarefied_otus[, sample_ids])<=20\n",
        "taxdata <- filter_obs(taxdata, \"rarefied_otus\", ! low_otu_index)\n",
        "taxdata$data$rarefied_otus\n",
        "\n",
        "```\n",
        "\n",
        "# Висновок\n",
        "\n",
        "Метод рарифікації вибірки за допомогою metacoder використовується для зменьшення похибки дослідження спречиненою неоднорідною глибиною сиквенування серед вибірок метагеномних данних.Її основними етапами є завантеження пакетів аналізу і самих даних(з конвертацією у відповідний формати), створення гістограми для оцінки кількості OTU у вибірках та сама рарифікація з видаленням вибірок OTUs з сумою кількостей, меньше за певне число.\n"
      ],
      "metadata": {
        "id": "JLVVhcbqFln3"
      }
    },
    {
      "cell_type": "code",
      "source": [
        "if (!require(\"BiocManager\", quietly = TRUE))\n",
        "    install.packages(\"BiocManager\")\n",
        "BiocManager::install(\"metacoder\")\n",
        "if (!require(\"BiocManager\", quietly = TRUE))\n",
        "    install.packages(\"BiocManager\")\n",
        "BiocManager::install(\"biomformat\")\n",
        "\n",
        "library(metacoder)\n",
        "\n",
        "biom_file <- file.path(getwd(), \"datasets\", \"ch5\", \"rich_high_count_otu.biom\")\n",
        "taxdata <- parse_qiime_biom(biom_file)\n",
        "\n",
        "\n",
        "sample_ids <- paste0(\"Sample\", 1:6)\n",
        "taxdata$data$otu_table\n",
        "\n",
        "hist_data <- colSums(taxdata$data$otu_table[, sample_ids])\n",
        "hist(hist_data, prob= TRUE, breaks=3)\n",
        "lines(density(hist_data, adjust = 2), col=\"red\")\n",
        "\n",
        "taxdata$data$rarefied_otus <- rarefy_obs(taxdata, \"otu_table\", other_cols = TRUE)\n",
        "\n",
        "low_otu_index <- rowSums(taxdata$data$rarefied_otus[, sample_ids]) <=20\n",
        "low_otu_index\n",
        "\n",
        "taxdata <- filter_obs(taxdata, \"rarefied_otus\", ! low_otu_index)\n",
        "taxdata$data$rarefied_otus"
      ],
      "metadata": {
        "colab": {
          "base_uri": "https://localhost:8080/",
          "height": 1000
        },
        "id": "BwFQ-7kGu9eF",
        "outputId": "79987d6c-0cb3-4ce9-a7c0-ea58b8c048f3"
      },
      "execution_count": null,
      "outputs": [
        {
          "output_type": "stream",
          "name": "stderr",
          "text": [
            "'getOption(\"repos\")' replaces Bioconductor standard repositories, see\n",
            "'help(\"repositories\", package = \"BiocManager\")' for details.\n",
            "Replacement repositories:\n",
            "    CRAN: https://cran.rstudio.com\n",
            "\n",
            "Bioconductor version 3.18 (BiocManager 1.30.22), R 4.3.2 (2023-10-31)\n",
            "\n",
            "Warning message:\n",
            "“package(s) not installed when version(s) same as or greater than current; use\n",
            "  `force = TRUE` to re-install: 'metacoder'”\n",
            "Old packages: 'bit', 'brio', 'bslib', 'cli', 'cpp11', 'curl', 'data.table',\n",
            "  'desc', 'devtools', 'fansi', 'gargle', 'gert', 'haven', 'highr', 'isoband',\n",
            "  'jsonlite', 'openssl', 'pkgbuild', 'processx', 'progress', 'ragg',\n",
            "  'roxygen2', 'sass', 'scales', 'stringi', 'svglite', 'testthat',\n",
            "  'textshaping', 'vctrs', 'vroom', 'whisker', 'xml2', 'yaml', 'boot',\n",
            "  'cluster', 'Matrix', 'nlme', 'rpart'\n",
            "\n",
            "'getOption(\"repos\")' replaces Bioconductor standard repositories, see\n",
            "'help(\"repositories\", package = \"BiocManager\")' for details.\n",
            "Replacement repositories:\n",
            "    CRAN: https://cran.rstudio.com\n",
            "\n",
            "Bioconductor version 3.18 (BiocManager 1.30.22), R 4.3.2 (2023-10-31)\n",
            "\n",
            "Installing package(s) 'biomformat'\n",
            "\n",
            "also installing the dependencies ‘Rhdf5lib’, ‘rhdf5filters’, ‘rhdf5’\n",
            "\n",
            "\n",
            "Old packages: 'bit', 'brio', 'bslib', 'cli', 'cpp11', 'curl', 'data.table',\n",
            "  'desc', 'devtools', 'fansi', 'gargle', 'gert', 'haven', 'highr', 'isoband',\n",
            "  'jsonlite', 'openssl', 'pkgbuild', 'processx', 'progress', 'ragg',\n",
            "  'roxygen2', 'sass', 'scales', 'stringi', 'svglite', 'testthat',\n",
            "  'textshaping', 'vctrs', 'vroom', 'whisker', 'xml2', 'yaml', 'boot',\n",
            "  'cluster', 'Matrix', 'nlme', 'rpart'\n",
            "\n"
          ]
        },
        {
          "output_type": "display_data",
          "data": {
            "text/html": [
              "<table class=\"dataframe\">\n",
              "<caption>A tibble: 5 × 8</caption>\n",
              "<thead>\n",
              "\t<tr><th scope=col>taxon_id</th><th scope=col>otu_id</th><th scope=col>Sample1</th><th scope=col>Sample2</th><th scope=col>Sample3</th><th scope=col>Sample4</th><th scope=col>Sample5</th><th scope=col>Sample6</th></tr>\n",
              "\t<tr><th scope=col>&lt;chr&gt;</th><th scope=col>&lt;chr&gt;</th><th scope=col>&lt;dbl&gt;</th><th scope=col>&lt;dbl&gt;</th><th scope=col>&lt;dbl&gt;</th><th scope=col>&lt;dbl&gt;</th><th scope=col>&lt;dbl&gt;</th><th scope=col>&lt;dbl&gt;</th></tr>\n",
              "</thead>\n",
              "<tbody>\n",
              "\t<tr><td>ax</td><td>GG_OTU_1</td><td>  24</td><td>15010</td><td>22426</td><td>20482</td><td>4574</td><td>13424</td></tr>\n",
              "\t<tr><td>ay</td><td>GG_OTU_2</td><td> 872</td><td>    0</td><td>16811</td><td> 5174</td><td>4280</td><td> 8042</td></tr>\n",
              "\t<tr><td>az</td><td>GG_OTU_3</td><td>   0</td><td>    7</td><td>  100</td><td>   50</td><td>  25</td><td>   19</td></tr>\n",
              "\t<tr><td>ba</td><td>GG_OTU_4</td><td> 875</td><td>16654</td><td>31109</td><td> 2410</td><td>   0</td><td>13815</td></tr>\n",
              "\t<tr><td>ax</td><td>GG_OTU_5</td><td>1270</td><td>12857</td><td> 7267</td><td> 3675</td><td>4159</td><td>    0</td></tr>\n",
              "</tbody>\n",
              "</table>\n"
            ],
            "text/markdown": "\nA tibble: 5 × 8\n\n| taxon_id &lt;chr&gt; | otu_id &lt;chr&gt; | Sample1 &lt;dbl&gt; | Sample2 &lt;dbl&gt; | Sample3 &lt;dbl&gt; | Sample4 &lt;dbl&gt; | Sample5 &lt;dbl&gt; | Sample6 &lt;dbl&gt; |\n|---|---|---|---|---|---|---|---|\n| ax | GG_OTU_1 |   24 | 15010 | 22426 | 20482 | 4574 | 13424 |\n| ay | GG_OTU_2 |  872 |     0 | 16811 |  5174 | 4280 |  8042 |\n| az | GG_OTU_3 |    0 |     7 |   100 |    50 |   25 |    19 |\n| ba | GG_OTU_4 |  875 | 16654 | 31109 |  2410 |    0 | 13815 |\n| ax | GG_OTU_5 | 1270 | 12857 |  7267 |  3675 | 4159 |     0 |\n\n",
            "text/latex": "A tibble: 5 × 8\n\\begin{tabular}{llllllll}\n taxon\\_id & otu\\_id & Sample1 & Sample2 & Sample3 & Sample4 & Sample5 & Sample6\\\\\n <chr> & <chr> & <dbl> & <dbl> & <dbl> & <dbl> & <dbl> & <dbl>\\\\\n\\hline\n\t ax & GG\\_OTU\\_1 &   24 & 15010 & 22426 & 20482 & 4574 & 13424\\\\\n\t ay & GG\\_OTU\\_2 &  872 &     0 & 16811 &  5174 & 4280 &  8042\\\\\n\t az & GG\\_OTU\\_3 &    0 &     7 &   100 &    50 &   25 &    19\\\\\n\t ba & GG\\_OTU\\_4 &  875 & 16654 & 31109 &  2410 &    0 & 13815\\\\\n\t ax & GG\\_OTU\\_5 & 1270 & 12857 &  7267 &  3675 & 4159 &     0\\\\\n\\end{tabular}\n",
            "text/plain": [
              "  taxon_id otu_id   Sample1 Sample2 Sample3 Sample4 Sample5 Sample6\n",
              "1 ax       GG_OTU_1   24    15010   22426   20482   4574    13424  \n",
              "2 ay       GG_OTU_2  872        0   16811    5174   4280     8042  \n",
              "3 az       GG_OTU_3    0        7     100      50     25       19  \n",
              "4 ba       GG_OTU_4  875    16654   31109    2410      0    13815  \n",
              "5 ax       GG_OTU_5 1270    12857    7267    3675   4159        0  "
            ]
          },
          "metadata": {}
        },
        {
          "output_type": "stream",
          "name": "stderr",
          "text": [
            "No `cols` specified, so using all numeric columns:\n",
            "   Sample1, Sample2, Sample3, Sample4, Sample5, Sample6\n",
            "\n",
            "\n",
            "Rarefying to 3041 since that is the lowest sample total.\n",
            "\n",
            "Warning message in vegan::rrarefy(t(count_table), sample = sample_size):\n",
            "“function should be used for observed counts, but smallest count is 7”\n",
            "Warning message:\n",
            "“The following columns will be replaced in the output:\n",
            "   Sample1, Sample2, Sample3, Sample4, Sample5, Sample6\n",
            "”\n"
          ]
        },
        {
          "output_type": "display_data",
          "data": {
            "text/html": [
              "<style>\n",
              ".list-inline {list-style: none; margin:0; padding: 0}\n",
              ".list-inline>li {display: inline-block}\n",
              ".list-inline>li:not(:last-child)::after {content: \"\\00b7\"; padding: 0 .5ex}\n",
              "</style>\n",
              "<ol class=list-inline><li>FALSE</li><li>FALSE</li><li>TRUE</li><li>FALSE</li><li>FALSE</li></ol>\n"
            ],
            "text/markdown": "1. FALSE\n2. FALSE\n3. TRUE\n4. FALSE\n5. FALSE\n\n\n",
            "text/latex": "\\begin{enumerate*}\n\\item FALSE\n\\item FALSE\n\\item TRUE\n\\item FALSE\n\\item FALSE\n\\end{enumerate*}\n",
            "text/plain": [
              "[1] FALSE FALSE  TRUE FALSE FALSE"
            ]
          },
          "metadata": {}
        },
        {
          "output_type": "display_data",
          "data": {
            "text/html": [
              "<table class=\"dataframe\">\n",
              "<caption>A tibble: 4 × 8</caption>\n",
              "<thead>\n",
              "\t<tr><th scope=col>taxon_id</th><th scope=col>otu_id</th><th scope=col>Sample1</th><th scope=col>Sample2</th><th scope=col>Sample3</th><th scope=col>Sample4</th><th scope=col>Sample5</th><th scope=col>Sample6</th></tr>\n",
              "\t<tr><th scope=col>&lt;chr&gt;</th><th scope=col>&lt;chr&gt;</th><th scope=col>&lt;dbl&gt;</th><th scope=col>&lt;dbl&gt;</th><th scope=col>&lt;dbl&gt;</th><th scope=col>&lt;dbl&gt;</th><th scope=col>&lt;dbl&gt;</th><th scope=col>&lt;dbl&gt;</th></tr>\n",
              "</thead>\n",
              "<tbody>\n",
              "\t<tr><td>ax</td><td>GG_OTU_1</td><td>  24</td><td>1015</td><td> 847</td><td>1936</td><td>1088</td><td>1172</td></tr>\n",
              "\t<tr><td>ay</td><td>GG_OTU_2</td><td> 872</td><td>   0</td><td> 649</td><td> 495</td><td> 946</td><td> 670</td></tr>\n",
              "\t<tr><td>ba</td><td>GG_OTU_4</td><td> 875</td><td>1136</td><td>1236</td><td> 220</td><td>   0</td><td>1198</td></tr>\n",
              "\t<tr><td>ax</td><td>GG_OTU_5</td><td>1270</td><td> 889</td><td> 306</td><td> 385</td><td>1002</td><td>   0</td></tr>\n",
              "</tbody>\n",
              "</table>\n"
            ],
            "text/markdown": "\nA tibble: 4 × 8\n\n| taxon_id &lt;chr&gt; | otu_id &lt;chr&gt; | Sample1 &lt;dbl&gt; | Sample2 &lt;dbl&gt; | Sample3 &lt;dbl&gt; | Sample4 &lt;dbl&gt; | Sample5 &lt;dbl&gt; | Sample6 &lt;dbl&gt; |\n|---|---|---|---|---|---|---|---|\n| ax | GG_OTU_1 |   24 | 1015 |  847 | 1936 | 1088 | 1172 |\n| ay | GG_OTU_2 |  872 |    0 |  649 |  495 |  946 |  670 |\n| ba | GG_OTU_4 |  875 | 1136 | 1236 |  220 |    0 | 1198 |\n| ax | GG_OTU_5 | 1270 |  889 |  306 |  385 | 1002 |    0 |\n\n",
            "text/latex": "A tibble: 4 × 8\n\\begin{tabular}{llllllll}\n taxon\\_id & otu\\_id & Sample1 & Sample2 & Sample3 & Sample4 & Sample5 & Sample6\\\\\n <chr> & <chr> & <dbl> & <dbl> & <dbl> & <dbl> & <dbl> & <dbl>\\\\\n\\hline\n\t ax & GG\\_OTU\\_1 &   24 & 1015 &  847 & 1936 & 1088 & 1172\\\\\n\t ay & GG\\_OTU\\_2 &  872 &    0 &  649 &  495 &  946 &  670\\\\\n\t ba & GG\\_OTU\\_4 &  875 & 1136 & 1236 &  220 &    0 & 1198\\\\\n\t ax & GG\\_OTU\\_5 & 1270 &  889 &  306 &  385 & 1002 &    0\\\\\n\\end{tabular}\n",
            "text/plain": [
              "  taxon_id otu_id   Sample1 Sample2 Sample3 Sample4 Sample5 Sample6\n",
              "1 ax       GG_OTU_1   24    1015     847    1936    1088    1172   \n",
              "2 ay       GG_OTU_2  872       0     649     495     946     670   \n",
              "3 ba       GG_OTU_4  875    1136    1236     220       0    1198   \n",
              "4 ax       GG_OTU_5 1270     889     306     385    1002       0   "
            ]
          },
          "metadata": {}
        },
        {
          "output_type": "display_data",
          "data": {
            "text/plain": [
              "Plot with title “Histogram of hist_data”"
            ],
            "image/png": "[encoded data removed]"
          },
          "metadata": {
            "image/png": {
              "width": 420,
              "height": 420
            }
          }
        }
      ]
    },
    {
      "cell_type": "markdown",
      "source": [
        "#Finding phenotype and genotype associations with GWAS\n",
        "## GWAS {auto-animate=true}\n",
        "Genome-wide association studies (GWAS) — це аналіз генотипу в різних особин для пошуку асоціацій з фенотиповими ознаками.  \n",
        "Наші дані містять три SNP для дослідження GWAS (це дуже мало для простоти).\n",
        "  \n",
        "## Завантажуємо пакети, встановлюємо сід {auto-animate=true}\n",
        "\n",
        "```{r, echo=TRUE}\n",
        "# BiocManager::install(\"VariantAnnotation\")\n",
        "library(VariantAnnotation)\n",
        "library(rrBLUP)\n",
        "set.seed(1234)\n",
        "```\n",
        "  \n",
        "Сід необхідний для відтворюваності аналізу, коли він містить елемент випадковості.  \n",
        "  \n",
        "## Завантажуємо дані {auto-animate=true}\n",
        "\n",
        "```{r, echo=TRUE}\n",
        "vcf_file <- file.path(getwd(), \"datasets\", \"ch2\", \"small_sample.vcf\")\n",
        "vcf <- readVcf(vcf_file, \"hg19\")\n",
        "```\n",
        "  \n",
        "## Завантажуємо дані {auto-animate=true}\n",
        "\n",
        "```{r, echo=TRUE}\n",
        "vcf_file <- file.path(getwd(), \"datasets\", \"ch2\", \"small_sample.vcf\")\n",
        "vcf <- readVcf(vcf_file, \"hg19\")\n",
        "```\n",
        "  \n",
        "```{r}\n",
        "vcf\n",
        "```\n",
        "\n",
        "## Екстрагуємо генотипи, зразки, маркерні позиції {auto-animate=true}\n",
        "\n",
        "```{r, echo=TRUE}\n",
        "gts <- geno(vcf)$GT\n",
        "samples <- samples(header(vcf))\n",
        "markers <- rownames(gts)\n",
        "chrom <- as.character(seqnames(rowRanges(vcf)))\n",
        "pos <- as.numeric(start(rowRanges(vcf)))\n",
        "```\n",
        "\n",
        "## Визначаємо функцію {auto-animate=true}\n",
        "\n",
        "```{r, echo=TRUE}\n",
        "convert <- function(v){\n",
        "  v <- gsub(\"0/0\", 1, v)\n",
        "  v <- gsub(\"0/1\", 0, v)\n",
        "  v <- gsub(\"1/0\", 0, v)\n",
        "  v <- gsub(\"1/1\",-1, v)\n",
        "  return(v)\n",
        "}\n",
        "```\n",
        "\n",
        "Функція конвертує VCF генотипи в неопхідний для GWAS функції.\n",
        "\n",
        "## Застосовуємо функцію {auto-animate=true}\n",
        "\n",
        "```{r, echo=TRUE}\n",
        "gt_char <- apply(gts, convert, MARGIN = 2)\n",
        "```\n",
        "\n",
        "## Конвертуємо результат в числову матрицю {auto-animate=true}\n",
        "\n",
        "```{r, echo=TRUE}\n",
        "genotype_matrix <- matrix(as.numeric(gt_char), nrow(gt_char))\n",
        "colnames(genotype_matrix) <- samples\n",
        "```\n",
        "\n",
        "## Створюємо датафрейм варіантів {auto-animate=true}\n",
        "\n",
        "```{r, echo=TRUE}\n",
        "variant_info <- data.frame(marker = markers,\n",
        "                           chrom = chrom,\n",
        "                           pos = pos)\n",
        "```\n",
        "\n",
        "## Створюємо комбінований варіант/генотип датафрейм {auto-animate=true}\n",
        "\n",
        "```{r, echo=TRUE}\n",
        "genotypes <-  cbind(variant_info, as.data.frame(genotype_matrix))\n",
        "genotypes\n",
        "```\n",
        "\n",
        "## Створюємо датафрейм генотипів {auto-animate=true}\n",
        "\n",
        "```{r, echo=TRUE}\n",
        "phenotypes <- data.frame(line = samples,\n",
        "                         score = rnorm(length(samples)))\n",
        "\n",
        "phenotypes\n",
        "```\n",
        "\n",
        "## Власне GWAS {auto-animate=true}\n",
        "\n",
        "```{r, echo=TRUE}\n",
        "GWAS(phenotypes, genotypes, plot=FALSE)\n",
        "```"
      ],
      "metadata": {
        "id": "hKAwVffoHEX6"
      }
    },
    {
      "cell_type": "code",
      "source": [
        "if (!require(\"BiocManager\", quietly = TRUE))\n",
        "    install.packages(\"BiocManager\")\n",
        "BiocManager::install(\"VariantAnnotation\")\n",
        "if (!require(\"BiocManager\", quietly = TRUE))\n",
        "    install.packages(\"BiocManager\")\n",
        "BiocManager::install(\"rrBLUP\")\n",
        "\n",
        "library(VariantAnnotation)\n",
        "library(rrBLUP)\n",
        "set.seed(1234)\n",
        "\n",
        "vcf_file <- file.path(getwd(), \"datasets\", \"ch2\", \"small_sample.vcf\")\n",
        "vcf <- readVcf(vcf_file, \"hg19\")\n",
        "gts <- geno(vcf)$GT\n",
        "\n",
        "\n",
        "samples <- samples(header(vcf))\n",
        "markers <- rownames(gts)\n",
        "chrom <- as.character(seqnames(rowRanges(vcf)))\n",
        "pos <- as.numeric(start(rowRanges(vcf)))\n",
        "\n",
        "convert <- function(v){\n",
        "  v <- gsub(\"0/0\", 1, v)\n",
        "  v <- gsub(\"0/1\", 0, v)\n",
        "  v <- gsub(\"1/0\", 0, v)\n",
        "  v <- gsub(\"1/1\",-1, v)\n",
        "  return(v)\n",
        "}\n",
        "gt_char<- apply(gts, convert, MARGIN = 2)\n",
        "\n",
        "genotype_matrix <- matrix(as.numeric(gt_char), nrow(gt_char) )\n",
        "colnames(genotype_matrix)<- samples\n",
        "\n",
        "variant_info <- data.frame(marker = markers,\n",
        "                           chrom = chrom,\n",
        "                           pos = pos)\n",
        "\n",
        "genotypes <-  cbind(variant_info, as.data.frame(genotype_matrix))\n",
        "genotypes\n",
        "\n",
        "phenotypes <- data.frame(\n",
        "  line = samples,\n",
        "  score = rnorm(length(samples))\n",
        ")\n",
        "\n",
        "phenotypes\n",
        "\n",
        "GWAS(phenotypes, genotypes,plot=FALSE)"
      ],
      "metadata": {
        "colab": {
          "base_uri": "https://localhost:8080/",
          "height": 1000
        },
        "id": "M4AZvM8wHTKT",
        "outputId": "cbe4cbd2-03c8-4801-b181-a6d08431ac6b"
      },
      "execution_count": null,
      "outputs": [
        {
          "output_type": "stream",
          "name": "stderr",
          "text": [
            "Installing package into ‘/usr/local/lib/R/site-library’\n",
            "(as ‘lib’ is unspecified)\n",
            "\n",
            "'getOption(\"repos\")' replaces Bioconductor standard repositories, see\n",
            "'help(\"repositories\", package = \"BiocManager\")' for details.\n",
            "Replacement repositories:\n",
            "    CRAN: https://cran.rstudio.com\n",
            "\n",
            "Bioconductor version 3.18 (BiocManager 1.30.22), R 4.3.2 (2023-10-31)\n",
            "\n",
            "Installing package(s) 'BiocVersion', 'VariantAnnotation'\n",
            "\n",
            "also installing the dependencies ‘formatR’, ‘lambda.r’, ‘futile.options’, ‘filelock’, ‘abind’, ‘SparseArray’, ‘futile.logger’, ‘snow’, ‘BH’, ‘plogr’, ‘png’, ‘rjson’, ‘BiocFileCache’, ‘matrixStats’, ‘RCurl’, ‘GenomeInfoDbData’, ‘S4Arrays’, ‘DelayedArray’, ‘bitops’, ‘BiocParallel’, ‘RSQLite’, ‘KEGGREST’, ‘XML’, ‘GenomicAlignments’, ‘BiocIO’, ‘restfulr’, ‘biomaRt’, ‘BiocGenerics’, ‘MatrixGenerics’, ‘GenomeInfoDb’, ‘GenomicRanges’, ‘SummarizedExperiment’, ‘Rsamtools’, ‘zlibbioc’, ‘Biobase’, ‘S4Vectors’, ‘IRanges’, ‘XVector’, ‘Biostrings’, ‘AnnotationDbi’, ‘rtracklayer’, ‘BSgenome’, ‘GenomicFeatures’, ‘Rhtslib’\n",
            "\n",
            "\n",
            "Old packages: 'bit', 'brio', 'bslib', 'cli', 'cpp11', 'curl', 'data.table',\n",
            "  'desc', 'devtools', 'fansi', 'gargle', 'gert', 'haven', 'highr', 'isoband',\n",
            "  'jsonlite', 'openssl', 'pkgbuild', 'processx', 'progress', 'ragg',\n",
            "  'roxygen2', 'sass', 'scales', 'stringi', 'svglite', 'testthat',\n",
            "  'textshaping', 'vctrs', 'vroom', 'whisker', 'xml2', 'yaml', 'boot',\n",
            "  'cluster', 'Matrix', 'nlme', 'rpart'\n",
            "\n",
            "'getOption(\"repos\")' replaces Bioconductor standard repositories, see\n",
            "'help(\"repositories\", package = \"BiocManager\")' for details.\n",
            "Replacement repositories:\n",
            "    CRAN: https://cran.rstudio.com\n",
            "\n",
            "Bioconductor version 3.18 (BiocManager 1.30.22), R 4.3.2 (2023-10-31)\n",
            "\n",
            "Installing package(s) 'rrBLUP'\n",
            "\n",
            "Old packages: 'bit', 'brio', 'bslib', 'cli', 'cpp11', 'curl', 'data.table',\n",
            "  'desc', 'devtools', 'fansi', 'gargle', 'gert', 'haven', 'highr', 'isoband',\n",
            "  'jsonlite', 'openssl', 'pkgbuild', 'processx', 'progress', 'ragg',\n",
            "  'roxygen2', 'sass', 'scales', 'stringi', 'svglite', 'testthat',\n",
            "  'textshaping', 'vctrs', 'vroom', 'whisker', 'xml2', 'yaml', 'boot',\n",
            "  'cluster', 'Matrix', 'nlme', 'rpart'\n",
            "\n",
            "Loading required package: BiocGenerics\n",
            "\n",
            "\n",
            "Attaching package: ‘BiocGenerics’\n",
            "\n",
            "\n",
            "The following objects are masked from ‘package:stats’:\n",
            "\n",
            "    IQR, mad, sd, var, xtabs\n",
            "\n",
            "\n",
            "The following objects are masked from ‘package:base’:\n",
            "\n",
            "    anyDuplicated, aperm, append, as.data.frame, basename, cbind,\n",
            "    colnames, dirname, do.call, duplicated, eval, evalq, Filter, Find,\n",
            "    get, grep, grepl, intersect, is.unsorted, lapply, Map, mapply,\n",
            "    match, mget, order, paste, pmax, pmax.int, pmin, pmin.int,\n",
            "    Position, rank, rbind, Reduce, rownames, sapply, setdiff, sort,\n",
            "    table, tapply, union, unique, unsplit, which.max, which.min\n",
            "\n",
            "\n",
            "Loading required package: MatrixGenerics\n",
            "\n",
            "Loading required package: matrixStats\n",
            "\n",
            "\n",
            "Attaching package: ‘MatrixGenerics’\n",
            "\n",
            "\n",
            "The following objects are masked from ‘package:matrixStats’:\n",
            "\n",
            "    colAlls, colAnyNAs, colAnys, colAvgsPerRowSet, colCollapse,\n",
            "    colCounts, colCummaxs, colCummins, colCumprods, colCumsums,\n",
            "    colDiffs, colIQRDiffs, colIQRs, colLogSumExps, colMadDiffs,\n",
            "    colMads, colMaxs, colMeans2, colMedians, colMins, colOrderStats,\n",
            "    colProds, colQuantiles, colRanges, colRanks, colSdDiffs, colSds,\n",
            "    colSums2, colTabulates, colVarDiffs, colVars, colWeightedMads,\n",
            "    colWeightedMeans, colWeightedMedians, colWeightedSds,\n",
            "    colWeightedVars, rowAlls, rowAnyNAs, rowAnys, rowAvgsPerColSet,\n",
            "    rowCollapse, rowCounts, rowCummaxs, rowCummins, rowCumprods,\n",
            "    rowCumsums, rowDiffs, rowIQRDiffs, rowIQRs, rowLogSumExps,\n",
            "    rowMadDiffs, rowMads, rowMaxs, rowMeans2, rowMedians, rowMins,\n",
            "    rowOrderStats, rowProds, rowQuantiles, rowRanges, rowRanks,\n",
            "    rowSdDiffs, rowSds, rowSums2, rowTabulates, rowVarDiffs, rowVars,\n",
            "    rowWeightedMads, rowWeightedMeans, rowWeightedMedians,\n",
            "    rowWeightedSds, rowWeightedVars\n",
            "\n",
            "\n",
            "Loading required package: GenomeInfoDb\n",
            "\n",
            "Loading required package: S4Vectors\n",
            "\n",
            "Loading required package: stats4\n",
            "\n",
            "\n",
            "Attaching package: ‘S4Vectors’\n",
            "\n",
            "\n",
            "The following object is masked from ‘package:utils’:\n",
            "\n",
            "    findMatches\n",
            "\n",
            "\n",
            "The following objects are masked from ‘package:base’:\n",
            "\n",
            "    expand.grid, I, unname\n",
            "\n",
            "\n",
            "Loading required package: IRanges\n",
            "\n",
            "Loading required package: GenomicRanges\n",
            "\n",
            "Loading required package: SummarizedExperiment\n",
            "\n",
            "Loading required package: Biobase\n",
            "\n",
            "Welcome to Bioconductor\n",
            "\n",
            "    Vignettes contain introductory material; view with\n",
            "    'browseVignettes()'. To cite Bioconductor, see\n",
            "    'citation(\"Biobase\")', and for packages 'citation(\"pkgname\")'.\n",
            "\n",
            "\n",
            "\n",
            "Attaching package: ‘Biobase’\n",
            "\n",
            "\n",
            "The following object is masked from ‘package:MatrixGenerics’:\n",
            "\n",
            "    rowMedians\n",
            "\n",
            "\n",
            "The following objects are masked from ‘package:matrixStats’:\n",
            "\n",
            "    anyMissing, rowMedians\n",
            "\n",
            "\n",
            "Loading required package: Rsamtools\n",
            "\n",
            "Loading required package: Biostrings\n",
            "\n",
            "Loading required package: XVector\n",
            "\n",
            "\n",
            "Attaching package: ‘Biostrings’\n",
            "\n",
            "\n",
            "The following object is masked from ‘package:base’:\n",
            "\n",
            "    strsplit\n",
            "\n",
            "\n",
            "\n",
            "Attaching package: ‘VariantAnnotation’\n",
            "\n",
            "\n",
            "The following object is masked from ‘package:base’:\n",
            "\n",
            "    tabulate\n",
            "\n",
            "\n"
          ]
        },
        {
          "output_type": "display_data",
          "data": {
            "text/html": [
              "<table class=\"dataframe\">\n",
              "<caption>A data.frame: 3 × 6</caption>\n",
              "<thead>\n",
              "\t<tr><th scope=col>marker</th><th scope=col>chrom</th><th scope=col>pos</th><th scope=col>NA00001</th><th scope=col>NA00002</th><th scope=col>NA00003</th></tr>\n",
              "\t<tr><th scope=col>&lt;chr&gt;</th><th scope=col>&lt;chr&gt;</th><th scope=col>&lt;dbl&gt;</th><th scope=col>&lt;dbl&gt;</th><th scope=col>&lt;dbl&gt;</th><th scope=col>&lt;dbl&gt;</th></tr>\n",
              "</thead>\n",
              "<tbody>\n",
              "\t<tr><td>rs6054257     </td><td>20</td><td>  14370</td><td>1</td><td>0</td><td>-1</td></tr>\n",
              "\t<tr><td>20:17330_T/A  </td><td>20</td><td>  17330</td><td>1</td><td>0</td><td> 1</td></tr>\n",
              "\t<tr><td>20:1230237_T/G</td><td>20</td><td>1230237</td><td>1</td><td>1</td><td> 0</td></tr>\n",
              "</tbody>\n",
              "</table>\n"
            ],
            "text/markdown": "\nA data.frame: 3 × 6\n\n| marker &lt;chr&gt; | chrom &lt;chr&gt; | pos &lt;dbl&gt; | NA00001 &lt;dbl&gt; | NA00002 &lt;dbl&gt; | NA00003 &lt;dbl&gt; |\n|---|---|---|---|---|---|\n| rs6054257      | 20 |   14370 | 1 | 0 | -1 |\n| 20:17330_T/A   | 20 |   17330 | 1 | 0 |  1 |\n| 20:1230237_T/G | 20 | 1230237 | 1 | 1 |  0 |\n\n",
            "text/latex": "A data.frame: 3 × 6\n\\begin{tabular}{llllll}\n marker & chrom & pos & NA00001 & NA00002 & NA00003\\\\\n <chr> & <chr> & <dbl> & <dbl> & <dbl> & <dbl>\\\\\n\\hline\n\t rs6054257      & 20 &   14370 & 1 & 0 & -1\\\\\n\t 20:17330\\_T/A   & 20 &   17330 & 1 & 0 &  1\\\\\n\t 20:1230237\\_T/G & 20 & 1230237 & 1 & 1 &  0\\\\\n\\end{tabular}\n",
            "text/plain": [
              "  marker         chrom pos     NA00001 NA00002 NA00003\n",
              "1 rs6054257      20      14370 1       0       -1     \n",
              "2 20:17330_T/A   20      17330 1       0        1     \n",
              "3 20:1230237_T/G 20    1230237 1       1        0     "
            ]
          },
          "metadata": {}
        },
        {
          "output_type": "display_data",
          "data": {
            "text/html": [
              "<table class=\"dataframe\">\n",
              "<caption>A data.frame: 3 × 2</caption>\n",
              "<thead>\n",
              "\t<tr><th scope=col>line</th><th scope=col>score</th></tr>\n",
              "\t<tr><th scope=col>&lt;chr&gt;</th><th scope=col>&lt;dbl&gt;</th></tr>\n",
              "</thead>\n",
              "<tbody>\n",
              "\t<tr><td>NA00001</td><td>-1.2070657</td></tr>\n",
              "\t<tr><td>NA00002</td><td> 0.2774292</td></tr>\n",
              "\t<tr><td>NA00003</td><td> 1.0844412</td></tr>\n",
              "</tbody>\n",
              "</table>\n"
            ],
            "text/markdown": "\nA data.frame: 3 × 2\n\n| line &lt;chr&gt; | score &lt;dbl&gt; |\n|---|---|\n| NA00001 | -1.2070657 |\n| NA00002 |  0.2774292 |\n| NA00003 |  1.0844412 |\n\n",
            "text/latex": "A data.frame: 3 × 2\n\\begin{tabular}{ll}\n line & score\\\\\n <chr> & <dbl>\\\\\n\\hline\n\t NA00001 & -1.2070657\\\\\n\t NA00002 &  0.2774292\\\\\n\t NA00003 &  1.0844412\\\\\n\\end{tabular}\n",
            "text/plain": [
              "  line    score     \n",
              "1 NA00001 -1.2070657\n",
              "2 NA00002  0.2774292\n",
              "3 NA00003  1.0844412"
            ]
          },
          "metadata": {}
        },
        {
          "output_type": "stream",
          "name": "stdout",
          "text": [
            "[1] \"GWAS for trait: score\"\n",
            "[1] \"Variance components estimated. Testing markers.\"\n"
          ]
        },
        {
          "output_type": "display_data",
          "data": {
            "text/html": [
              "<table class=\"dataframe\">\n",
              "<caption>A data.frame: 3 × 4</caption>\n",
              "<thead>\n",
              "\t<tr><th></th><th scope=col>marker</th><th scope=col>chrom</th><th scope=col>pos</th><th scope=col>score</th></tr>\n",
              "\t<tr><th></th><th scope=col>&lt;chr&gt;</th><th scope=col>&lt;chr&gt;</th><th scope=col>&lt;dbl&gt;</th><th scope=col>&lt;dbl&gt;</th></tr>\n",
              "</thead>\n",
              "<tbody>\n",
              "\t<tr><th scope=row>1</th><td>rs6054257     </td><td>20</td><td>  14370</td><td>0.3010543</td></tr>\n",
              "\t<tr><th scope=row>2</th><td>20:17330_T/A  </td><td>20</td><td>  17330</td><td>0.3010057</td></tr>\n",
              "\t<tr><th scope=row>3</th><td>20:1230237_T/G</td><td>20</td><td>1230237</td><td>0.1655498</td></tr>\n",
              "</tbody>\n",
              "</table>\n"
            ],
            "text/markdown": "\nA data.frame: 3 × 4\n\n| <!--/--> | marker &lt;chr&gt; | chrom &lt;chr&gt; | pos &lt;dbl&gt; | score &lt;dbl&gt; |\n|---|---|---|---|---|\n| 1 | rs6054257      | 20 |   14370 | 0.3010543 |\n| 2 | 20:17330_T/A   | 20 |   17330 | 0.3010057 |\n| 3 | 20:1230237_T/G | 20 | 1230237 | 0.1655498 |\n\n",
            "text/latex": "A data.frame: 3 × 4\n\\begin{tabular}{r|llll}\n  & marker & chrom & pos & score\\\\\n  & <chr> & <chr> & <dbl> & <dbl>\\\\\n\\hline\n\t1 & rs6054257      & 20 &   14370 & 0.3010543\\\\\n\t2 & 20:17330\\_T/A   & 20 &   17330 & 0.3010057\\\\\n\t3 & 20:1230237\\_T/G & 20 & 1230237 & 0.1655498\\\\\n\\end{tabular}\n",
            "text/plain": [
              "  marker         chrom pos     score    \n",
              "1 rs6054257      20      14370 0.3010543\n",
              "2 20:17330_T/A   20      17330 0.3010057\n",
              "3 20:1230237_T/G 20    1230237 0.1655498"
            ]
          },
          "metadata": {}
        }
      ]
    },
    {
      "cell_type": "markdown",
      "source": [
        "#Finding unannotated transcribed regions\n",
        "Поширеною проблемою є пошук і підрахунок зчитувань, які вирівнялися за межами анотованих ділянок. В RNAseq-експерименті ці зчитування можуть представляти неанотовані гени і нові транскрипти. По суті, у нас є деякі гени, про які ми знаємо, і ми бачимо, що вони транскрибуються, оскільки вони мають вирівняне покриття зчитування, але інші транскрибовані ділянки не підпадають під\n",
        "і ми хочемо знати розташування вирівняних зчитувань, які їх представляють.\n",
        "що їх представляють. У цьому рецепті ми розглянемо оманливо просту техніку для\n",
        "пошуку таких областей.\n",
        "Підготовка\n",
        "Наш набір даних буде синтетичним, який містить невелику ділянку геному розміром 6 000 п.н. і дві генні і третю неанотовану ділянку з вирівнюючими зчитуваннями.\n",
        "Нам знадобляться бібліотеки Bioconductor csaw, IRanges, SummarizedExperiment та\n",
        "rtracklayer, а також деякі функції з інших пакунків, що входять до складу базового Bioconductor. Дані знаходяться у сховищі даних цієї книги\n",
        "у файлах datasets/ch1/windows.bam та datasets/ch1/genes.gff\n",
        "Як це зробити...\n",
        "Аналіз потужності за допомогою powsimR можна виконати у наступні кроки:\n",
        "# 1 Налаштуйте функцію завантаження:\n",
        "```{r, echo=TRUE}\n",
        "get_annotated_regions_from_gff <- function(file_name) {\n",
        " gff <- rtracklayer::import.gff(назва_файлу)\n",
        " as(gff, \"GRanges\")}\n",
        " ```\n",
        " # 2 Отримати підрахунки у вікнах по всьому геному:\n",
        "```{r, echo=TRUE}\n",
        "whole_genome <- csaw::windowCounts(\n",
        " file.path(getwd(), \"datasets\", \"ch1\", \"windows.bam\"),\n",
        " bin = TRUE,\n",
        " filter = 0,\n",
        " width = 500,\n",
        " param = csaw::readParam(\n",
        " minq = 20,\n",
        " dedup = TRUE,\n",
        " pe = \"both\"\n",
        " )\n",
        ")\n",
        "colnames(whole_genome) <- c(\"small_data\")\n",
        "annotated_regions <-\n",
        "get_annotated_regions_from_gff(file.path(getwd(), \"datasets\",\n",
        "\"ch1\", \"genes.gff\"))\n",
        "```\n",
        "# 3 Знайдіть перекриття між анотаціями та нашими вікнами і створіть підмножину вікон:\n",
        "```{r, echo=TRUE}\n",
        "library(IRanges)\n",
        "library(SummarizedExperiment)\n",
        "windows_in_genes <-IRanges::overlapsAny(\n",
        "SummarizedExperiment::rowRanges(whole_genome), annotated_regions )\n",
        " ```\n",
        "# 4 Розбийте вікна на вікна в анотованих і неанотованих регіонах:\n",
        "```{r, echo=TRUE}\n",
        "annotated_window_counts <- whole_genome[windows_in_genes,]\n",
        "non_annotated_window_counts <- whole_genome[ ! windows_in_genes,]\n",
        "```\n",
        "# 5 Виводимо дані у матрицю підрахунків:\n",
        "```{r, echo=TRUE}\n",
        "assay(non_annotated_window_counts)\n",
        "```"
      ],
      "metadata": {
        "id": "vCGFECruRw_G"
      }
    },
    {
      "cell_type": "code",
      "source": [
        "if (!require(\"BiocManager\", quietly = TRUE))\n",
        "    install.packages(\"BiocManager\")\n",
        "BiocManager::install(\"csaw\")\n",
        "if (!require(\"BiocManager\", quietly = TRUE))\n",
        "    install.packages(\"BiocManager\")\n",
        "BiocManager::install(\"IRanges\")\n",
        "if (!require(\"BiocManager\", quietly = TRUE))\n",
        "    install.packages(\"BiocManager\")\n",
        "BiocManager::install(\"SummarizedExperiment\")\n",
        "\n",
        "get_annotated_regions_from_gff <- function(file_name) {\n",
        "  gff <- rtracklayer::import.gff(file_name)\n",
        "  as(gff, \"GRanges\")\n",
        "}\n",
        "\n",
        "get_annotated_regions_from_bed <- function(file_name){\n",
        "  bed <- rtracklayer::import.bed(file_name)\n",
        "  as(bed, \"GRanges\")\n",
        "}\n",
        "\n",
        "#get counts in windows across whole genome\n",
        "whole_genome <- csaw::windowCounts(\n",
        "    file.path(getwd(), \"datasets\", \"ch1\", \"windows.bam\"),\n",
        "    bin = TRUE,\n",
        "    filter = 0,\n",
        "    width = 500,\n",
        "    param = csaw::readParam(\n",
        "        minq = 20,\n",
        "        dedup = TRUE,\n",
        "        pe = \"both\"\n",
        "    )\n",
        ")\n",
        "colnames(whole_genome) <- c(\"small_data\")\n",
        "\n",
        "#make a GRanges object of the annotated features\n",
        "annotated_regions <- get_annotated_regions_from_gff(file.path(getwd(), \"datasets\", \"ch1\", \"genes.gff\"))\n",
        "\n",
        "\n",
        "library(IRanges)\n",
        "library(SummarizedExperiment)\n",
        "#find the overlaps between the windows we made\n",
        "windows_in_genes <-IRanges::overlapsAny(\n",
        "  SummarizedExperiment::rowRanges(whole_genome),\n",
        "  annotated_regions\n",
        ")\n",
        "\n",
        "annotated_window_counts <- whole_genome[windows_in_genes,]\n",
        "non_annotated_window_counts <- whole_genome[ ! windows_in_genes,]\n",
        "\n",
        "\n",
        "assay(annotated_window_counts)"
      ],
      "metadata": {
        "colab": {
          "base_uri": "https://localhost:8080/",
          "height": 1000
        },
        "id": "4D8aeB8DSzVU",
        "outputId": "c472b809-5665-46e1-8475-e90afa98da0e"
      },
      "execution_count": null,
      "outputs": [
        {
          "output_type": "stream",
          "name": "stderr",
          "text": [
            "'getOption(\"repos\")' replaces Bioconductor standard repositories, see\n",
            "'help(\"repositories\", package = \"BiocManager\")' for details.\n",
            "Replacement repositories:\n",
            "    CRAN: https://cran.rstudio.com\n",
            "\n",
            "Bioconductor version 3.18 (BiocManager 1.30.22), R 4.3.2 (2023-10-31)\n",
            "\n",
            "Installing package(s) 'csaw'\n",
            "\n",
            "also installing the dependencies ‘statmod’, ‘edgeR’, ‘limma’, ‘metapod’\n",
            "\n",
            "\n",
            "Old packages: 'bit', 'brio', 'bslib', 'cli', 'cpp11', 'curl', 'data.table',\n",
            "  'desc', 'devtools', 'fansi', 'gargle', 'gert', 'haven', 'highr', 'isoband',\n",
            "  'jsonlite', 'openssl', 'pkgbuild', 'processx', 'progress', 'ragg',\n",
            "  'roxygen2', 'sass', 'scales', 'stringi', 'svglite', 'testthat',\n",
            "  'textshaping', 'vctrs', 'vroom', 'whisker', 'xml2', 'yaml', 'boot',\n",
            "  'cluster', 'Matrix', 'nlme', 'rpart'\n",
            "\n",
            "'getOption(\"repos\")' replaces Bioconductor standard repositories, see\n",
            "'help(\"repositories\", package = \"BiocManager\")' for details.\n",
            "Replacement repositories:\n",
            "    CRAN: https://cran.rstudio.com\n",
            "\n",
            "Bioconductor version 3.18 (BiocManager 1.30.22), R 4.3.2 (2023-10-31)\n",
            "\n",
            "Warning message:\n",
            "“package(s) not installed when version(s) same as or greater than current; use\n",
            "  `force = TRUE` to re-install: 'IRanges'”\n",
            "Old packages: 'bit', 'brio', 'bslib', 'cli', 'cpp11', 'curl', 'data.table',\n",
            "  'desc', 'devtools', 'fansi', 'gargle', 'gert', 'haven', 'highr', 'isoband',\n",
            "  'jsonlite', 'openssl', 'pkgbuild', 'processx', 'progress', 'ragg',\n",
            "  'roxygen2', 'sass', 'scales', 'stringi', 'svglite', 'testthat',\n",
            "  'textshaping', 'vctrs', 'vroom', 'whisker', 'xml2', 'yaml', 'boot',\n",
            "  'cluster', 'Matrix', 'nlme', 'rpart'\n",
            "\n",
            "'getOption(\"repos\")' replaces Bioconductor standard repositories, see\n",
            "'help(\"repositories\", package = \"BiocManager\")' for details.\n",
            "Replacement repositories:\n",
            "    CRAN: https://cran.rstudio.com\n",
            "\n",
            "Bioconductor version 3.18 (BiocManager 1.30.22), R 4.3.2 (2023-10-31)\n",
            "\n",
            "Warning message:\n",
            "“package(s) not installed when version(s) same as or greater than current; use\n",
            "  `force = TRUE` to re-install: 'SummarizedExperiment'”\n",
            "Old packages: 'bit', 'brio', 'bslib', 'cli', 'cpp11', 'curl', 'data.table',\n",
            "  'desc', 'devtools', 'fansi', 'gargle', 'gert', 'haven', 'highr', 'isoband',\n",
            "  'jsonlite', 'openssl', 'pkgbuild', 'processx', 'progress', 'ragg',\n",
            "  'roxygen2', 'sass', 'scales', 'stringi', 'svglite', 'testthat',\n",
            "  'textshaping', 'vctrs', 'vroom', 'whisker', 'xml2', 'yaml', 'boot',\n",
            "  'cluster', 'Matrix', 'nlme', 'rpart'\n",
            "\n"
          ]
        },
        {
          "output_type": "display_data",
          "data": {
            "text/html": [
              "<table class=\"dataframe\">\n",
              "<caption>A matrix: 6 × 1 of type int</caption>\n",
              "<thead>\n",
              "\t<tr><th scope=col>small_data</th></tr>\n",
              "</thead>\n",
              "<tbody>\n",
              "\t<tr><td> 0</td></tr>\n",
              "\t<tr><td>31</td></tr>\n",
              "\t<tr><td>25</td></tr>\n",
              "\t<tr><td> 0</td></tr>\n",
              "\t<tr><td>28</td></tr>\n",
              "\t<tr><td>31</td></tr>\n",
              "</tbody>\n",
              "</table>\n"
            ],
            "text/markdown": "\nA matrix: 6 × 1 of type int\n\n| small_data |\n|---|\n|  0 |\n| 31 |\n| 25 |\n|  0 |\n| 28 |\n| 31 |\n\n",
            "text/latex": "A matrix: 6 × 1 of type int\n\\begin{tabular}{l}\n small\\_data\\\\\n\\hline\n\t  0\\\\\n\t 31\\\\\n\t 25\\\\\n\t  0\\\\\n\t 28\\\\\n\t 31\\\\\n\\end{tabular}\n",
            "text/plain": [
              "     small_data\n",
              "[1,]  0        \n",
              "[2,] 31        \n",
              "[3,] 25        \n",
              "[4,]  0        \n",
              "[5,] 28        \n",
              "[6,] 31        "
            ]
          },
          "metadata": {}
        }
      ]
    },
    {
      "cell_type": "markdown",
      "source": [
        "#Finding regions showing high expression abinitio with bumphunter\n",
        "Пошук ділянок вирівнювання зчитування, які походять від однієї і тієї ж, потенційно неанотованої, геномної особливості, є поширеним завданням.\n",
        "Мета полягає в тому, щоб згрупувати вирівнювання зчитувань таким чином, щоб ми могли позначити регіони, які мають значне покриття, а потім порівняти зразки для виявлення відмінностей у рівнях експресії.\n",
        "Бібліотеки: Rsamtools та bumphunter\n",
        "Дані: datasets/ch1/windows.bam.\n",
        "\n",
        "# 1 Завантажте дані та отримайте покриття для кожної позиції:\n",
        "```\n",
        "library(Rsamtools)\n",
        "library(bumphunter)\n",
        "pileup_df <- Rsamtools::pileup(file.path(getwd(), \"datasets\",\n",
        "\"ch1\", \"windows.bam\"))\n",
        "```\n",
        "# 2 Знаходимо попередні кластери:\n",
        "```\n",
        "clusters <- bumphunter::clusterMaker(pileup_df$seqnames,\n",
        "pileup_df$pos, maxGap = 100)\n",
        "```\n",
        "# 3 Знаходимо бампери з мінімальним відсіканням:\n",
        "```\n",
        "bumphunter::regionFinder(pileup_df$count, pileup_df$seqnames,\n",
        "pileup_df$pos, clusters, cutoff=1)\n",
        "```\n"
      ],
      "metadata": {
        "id": "GQtU2Q65VEnC"
      }
    },
    {
      "cell_type": "code",
      "source": [
        "if (!require(\"BiocManager\", quietly = TRUE))\n",
        "    install.packages(\"BiocManager\")\n",
        "BiocManager::install(\"Rsamtools\")\n",
        "if (!require(\"BiocManager\", quietly = TRUE))\n",
        "    install.packages(\"BiocManager\")\n",
        "BiocManager::install(\"bumphunter\")\n",
        "library(Rsamtools)\n",
        "library(bumphunter)\n",
        "\n",
        "pileup_df <- Rsamtools::pileup(file.path(getwd(), \"datasets\", \"ch1\", \"windows.bam\"))\n",
        "clusters <- bumphunter::clusterMaker(pileup_df$seqnames, pileup_df$pos, maxGap = 100)\n",
        "table(clusters)\n",
        "\n",
        "bumphunter::regionFinder(pileup_df$count, pileup_df$seqnames, pileup_df$pos, clusters, cutoff=1)"
      ],
      "metadata": {
        "colab": {
          "base_uri": "https://localhost:8080/",
          "height": 1000
        },
        "id": "GuRt-BRJU3vi",
        "outputId": "c9a69db6-bb68-4e6f-d331-7109e7ba3948"
      },
      "execution_count": null,
      "outputs": [
        {
          "output_type": "stream",
          "name": "stderr",
          "text": [
            "'getOption(\"repos\")' replaces Bioconductor standard repositories, see\n",
            "'help(\"repositories\", package = \"BiocManager\")' for details.\n",
            "Replacement repositories:\n",
            "    CRAN: https://cran.rstudio.com\n",
            "\n",
            "Bioconductor version 3.18 (BiocManager 1.30.22), R 4.3.2 (2023-10-31)\n",
            "\n",
            "Warning message:\n",
            "“package(s) not installed when version(s) same as or greater than current; use\n",
            "  `force = TRUE` to re-install: 'Rsamtools'”\n",
            "Old packages: 'bit', 'brio', 'bslib', 'cli', 'cpp11', 'curl', 'data.table',\n",
            "  'desc', 'devtools', 'fansi', 'gargle', 'gert', 'haven', 'highr', 'isoband',\n",
            "  'jsonlite', 'openssl', 'pkgbuild', 'processx', 'progress', 'ragg',\n",
            "  'roxygen2', 'sass', 'scales', 'stringi', 'svglite', 'testthat',\n",
            "  'textshaping', 'vctrs', 'vroom', 'whisker', 'xml2', 'yaml', 'boot',\n",
            "  'cluster', 'Matrix', 'nlme', 'rpart'\n",
            "\n",
            "'getOption(\"repos\")' replaces Bioconductor standard repositories, see\n",
            "'help(\"repositories\", package = \"BiocManager\")' for details.\n",
            "Replacement repositories:\n",
            "    CRAN: https://cran.rstudio.com\n",
            "\n",
            "Bioconductor version 3.18 (BiocManager 1.30.22), R 4.3.2 (2023-10-31)\n",
            "\n",
            "Installing package(s) 'bumphunter'\n",
            "\n",
            "also installing the dependencies ‘rngtools’, ‘doRNG’\n",
            "\n",
            "\n",
            "Old packages: 'bit', 'brio', 'bslib', 'cli', 'cpp11', 'curl', 'data.table',\n",
            "  'desc', 'devtools', 'fansi', 'gargle', 'gert', 'haven', 'highr', 'isoband',\n",
            "  'jsonlite', 'openssl', 'pkgbuild', 'processx', 'progress', 'ragg',\n",
            "  'roxygen2', 'sass', 'scales', 'stringi', 'svglite', 'testthat',\n",
            "  'textshaping', 'vctrs', 'vroom', 'whisker', 'xml2', 'yaml', 'boot',\n",
            "  'cluster', 'Matrix', 'nlme', 'rpart'\n",
            "\n",
            "Loading required package: foreach\n",
            "\n",
            "Loading required package: iterators\n",
            "\n",
            "Loading required package: parallel\n",
            "\n",
            "Loading required package: locfit\n",
            "\n",
            "locfit 1.5-9.8 \t 2023-06-11\n",
            "\n"
          ]
        },
        {
          "output_type": "display_data",
          "data": {
            "text/plain": [
              "clusters\n",
              "   1    2    3 \n",
              "1486 1552 1520 "
            ]
          },
          "metadata": {}
        },
        {
          "output_type": "stream",
          "name": "stderr",
          "text": [
            "getSegments: segmenting\n",
            "\n",
            "getSegments: splitting\n",
            "\n"
          ]
        },
        {
          "output_type": "display_data",
          "data": {
            "text/html": [
              "<table class=\"dataframe\">\n",
              "<caption>A data.frame: 3 × 10</caption>\n",
              "<thead>\n",
              "\t<tr><th></th><th scope=col>chr</th><th scope=col>start</th><th scope=col>end</th><th scope=col>value</th><th scope=col>area</th><th scope=col>cluster</th><th scope=col>indexStart</th><th scope=col>indexEnd</th><th scope=col>L</th><th scope=col>clusterL</th></tr>\n",
              "\t<tr><th></th><th scope=col>&lt;fct&gt;</th><th scope=col>&lt;int&gt;</th><th scope=col>&lt;int&gt;</th><th scope=col>&lt;dbl&gt;</th><th scope=col>&lt;int&gt;</th><th scope=col>&lt;dbl&gt;</th><th scope=col>&lt;int&gt;</th><th scope=col>&lt;int&gt;</th><th scope=col>&lt;dbl&gt;</th><th scope=col>&lt;int&gt;</th></tr>\n",
              "</thead>\n",
              "<tbody>\n",
              "\t<tr><th scope=row>3</th><td>Chr1</td><td>4503</td><td>5500</td><td>10.401974</td><td>15811</td><td>3</td><td>3039</td><td>4558</td><td>1520</td><td>1520</td></tr>\n",
              "\t<tr><th scope=row>1</th><td>Chr1</td><td> 502</td><td>1500</td><td> 9.985868</td><td>14839</td><td>1</td><td>   1</td><td>1486</td><td>1486</td><td>1486</td></tr>\n",
              "\t<tr><th scope=row>2</th><td>Chr1</td><td>2501</td><td>3500</td><td> 8.657216</td><td>13436</td><td>2</td><td>1487</td><td>3038</td><td>1552</td><td>1552</td></tr>\n",
              "</tbody>\n",
              "</table>\n"
            ],
            "text/markdown": "\nA data.frame: 3 × 10\n\n| <!--/--> | chr &lt;fct&gt; | start &lt;int&gt; | end &lt;int&gt; | value &lt;dbl&gt; | area &lt;int&gt; | cluster &lt;dbl&gt; | indexStart &lt;int&gt; | indexEnd &lt;int&gt; | L &lt;dbl&gt; | clusterL &lt;int&gt; |\n|---|---|---|---|---|---|---|---|---|---|---|\n| 3 | Chr1 | 4503 | 5500 | 10.401974 | 15811 | 3 | 3039 | 4558 | 1520 | 1520 |\n| 1 | Chr1 |  502 | 1500 |  9.985868 | 14839 | 1 |    1 | 1486 | 1486 | 1486 |\n| 2 | Chr1 | 2501 | 3500 |  8.657216 | 13436 | 2 | 1487 | 3038 | 1552 | 1552 |\n\n",
            "text/latex": "A data.frame: 3 × 10\n\\begin{tabular}{r|llllllllll}\n  & chr & start & end & value & area & cluster & indexStart & indexEnd & L & clusterL\\\\\n  & <fct> & <int> & <int> & <dbl> & <int> & <dbl> & <int> & <int> & <dbl> & <int>\\\\\n\\hline\n\t3 & Chr1 & 4503 & 5500 & 10.401974 & 15811 & 3 & 3039 & 4558 & 1520 & 1520\\\\\n\t1 & Chr1 &  502 & 1500 &  9.985868 & 14839 & 1 &    1 & 1486 & 1486 & 1486\\\\\n\t2 & Chr1 & 2501 & 3500 &  8.657216 & 13436 & 2 & 1487 & 3038 & 1552 & 1552\\\\\n\\end{tabular}\n",
            "text/plain": [
              "  chr  start end  value     area  cluster indexStart indexEnd L    clusterL\n",
              "3 Chr1 4503  5500 10.401974 15811 3       3039       4558     1520 1520    \n",
              "1 Chr1  502  1500  9.985868 14839 1          1       1486     1486 1486    \n",
              "2 Chr1 2501  3500  8.657216 13436 2       1487       3038     1552 1552    "
            ]
          },
          "metadata": {}
        }
      ]
    },
    {
      "cell_type": "markdown",
      "source": [
        "# Finding protein domains with PFAM and bio3d\n"
      ],
      "metadata": {
        "id": "Aa9AXdG85WYW"
      }
    },
    {
      "cell_type": "markdown",
      "source": [
        "**1.Завантажння та встановлення необхідних пакетів.**"
      ],
      "metadata": {
        "id": "CODPhdYZZbAs"
      }
    },
    {
      "cell_type": "markdown",
      "source": [],
      "metadata": {
        "id": "Dtgh7_6ZRIOB"
      }
    },
    {
      "cell_type": "code",
      "source": [
        "if (!require(\"BiocManager\", quietly = TRUE))\n",
        "install.packages(\"BiocManager\")\n",
        "BiocManager::install(\"org.Hs.eg.db\")\n"
      ],
      "metadata": {
        "colab": {
          "base_uri": "https://localhost:8080/"
        },
        "id": "aSQ7PNNL51QS",
        "outputId": "e44ee99b-3516-4999-b8a3-4aa953401fd2"
      },
      "execution_count": null,
      "outputs": [
        {
          "output_type": "stream",
          "name": "stderr",
          "text": [
            "Installing package into ‘/usr/local/lib/R/site-library’\n",
            "(as ‘lib’ is unspecified)\n",
            "\n",
            "'getOption(\"repos\")' replaces Bioconductor standard repositories, see\n",
            "'help(\"repositories\", package = \"BiocManager\")' for details.\n",
            "Replacement repositories:\n",
            "    CRAN: https://cran.rstudio.com\n",
            "\n",
            "Bioconductor version 3.18 (BiocManager 1.30.22), R 4.3.2 (2023-10-31)\n",
            "\n",
            "Installing package(s) 'BiocVersion', 'org.Hs.eg.db'\n",
            "\n",
            "also installing the dependencies ‘bitops’, ‘zlibbioc’, ‘RCurl’, ‘GenomeInfoDbData’, ‘XVector’, ‘GenomeInfoDb’, ‘plogr’, ‘png’, ‘Biostrings’, ‘BiocGenerics’, ‘Biobase’, ‘IRanges’, ‘RSQLite’, ‘S4Vectors’, ‘KEGGREST’, ‘AnnotationDbi’\n",
            "\n",
            "\n",
            "Old packages: 'bit', 'brio', 'bslib', 'cli', 'cpp11', 'curl', 'data.table',\n",
            "  'desc', 'devtools', 'fansi', 'gargle', 'gert', 'haven', 'highr', 'isoband',\n",
            "  'jsonlite', 'openssl', 'pkgbuild', 'processx', 'progress', 'ragg',\n",
            "  'roxygen2', 'sass', 'scales', 'stringi', 'svglite', 'testthat',\n",
            "  'textshaping', 'vctrs', 'vroom', 'whisker', 'xml2', 'yaml', 'boot',\n",
            "  'cluster', 'Matrix', 'nlme', 'rpart'\n",
            "\n"
          ]
        }
      ]
    },
    {
      "cell_type": "code",
      "source": [
        "if (!require(\"BiocManager\", quietly = TRUE))\n",
        "BiocManager::install(\"org.EcK12.eg.db\")"
      ],
      "metadata": {
        "id": "TgEy_k6T9fIi"
      },
      "execution_count": null,
      "outputs": []
    },
    {
      "cell_type": "code",
      "source": [
        "if (!require(\"BiocManager\", quietly = TRUE))\n",
        "BiocManager::install(\"org.At.tair.db\")"
      ],
      "metadata": {
        "id": "MZ2j5KI9-TLm"
      },
      "execution_count": null,
      "outputs": []
    },
    {
      "cell_type": "code",
      "source": [
        "install.packages(\"devtools\")\n",
        "library(devtools)\n",
        "install_bitbucket(\"Grantlab/bio3d\", subdir = \"ver_devel/bio3d/\")"
      ],
      "metadata": {
        "colab": {
          "base_uri": "https://localhost:8080/"
        },
        "id": "eoi9xuyF-dfW",
        "outputId": "8c68744f-de6a-4134-d638-4db9d147b7b7"
      },
      "execution_count": null,
      "outputs": [
        {
          "output_type": "stream",
          "name": "stderr",
          "text": [
            "Installing package into ‘/usr/local/lib/R/site-library’\n",
            "(as ‘lib’ is unspecified)\n",
            "\n",
            "also installing the dependencies ‘Rcpp’, ‘httpuv’, ‘xtable’, ‘sourcetools’, ‘later’, ‘promises’, ‘shiny’, ‘downlit’, ‘htmlwidgets’, ‘miniUI’, ‘pkgdown’, ‘profvis’, ‘urlchecker’\n",
            "\n",
            "\n",
            "Loading required package: usethis\n",
            "\n",
            "\n",
            "Attaching package: ‘devtools’\n",
            "\n",
            "\n",
            "The following object is masked from ‘package:BiocManager’:\n",
            "\n",
            "    install\n",
            "\n",
            "\n",
            "Downloading bitbucket repo Grantlab/bio3d@HEAD\n",
            "\n"
          ]
        },
        {
          "output_type": "stream",
          "name": "stdout",
          "text": [
            "\n",
            "\u001b[36m──\u001b[39m \u001b[36mR CMD build\u001b[39m \u001b[36m─────────────────────────────────────────────────────────────────\u001b[39m\n",
            "* checking for file ‘/tmp/RtmpHRgGuv/remotes39428e9d9f4/Grantlab-bio3d-9686c49cf36d/ver_devel/bio3d/DESCRIPTION’ ... OK\n",
            "* preparing ‘bio3d’:\n",
            "* checking DESCRIPTION meta-information ... OK\n",
            "* cleaning src\n",
            "* checking for LF line-endings in source and make files and shell scripts\n",
            "* checking for empty or unneeded directories\n",
            "* building ‘bio3d_2.4-4.9000.tar.gz’\n",
            "\n"
          ]
        },
        {
          "output_type": "stream",
          "name": "stderr",
          "text": [
            "Installing package into ‘/usr/local/lib/R/site-library’\n",
            "(as ‘lib’ is unspecified)\n",
            "\n"
          ]
        }
      ]
    },
    {
      "cell_type": "code",
      "source": [
        "utils::download.file(url = \"https://bitbucket.org/Grantlab/bio3d/get/HEAD.tar.gz\",\n",
        "destfile = \"bio3d.tar.gz\", method = \"curl\")"
      ],
      "metadata": {
        "id": "8O1YyQlt-3JV"
      },
      "execution_count": null,
      "outputs": []
    },
    {
      "cell_type": "markdown",
      "source": [
        "**2.Перевірка вмісту бази даних**\n",
        "\n",
        "• Функція keytypes() містить список доступних ключів пошуку. Використовується\n",
        "для того, щоб перевірити, чи містить база даних інформацію про домени\n",
        "PFAM. Вихідні дані відображають різні ключі пошуку, включаючи \"PFAM\".\n",
        "Отримуємо вектор ключів за допомогою функції keys()."
      ],
      "metadata": {
        "id": "35UuvowNZ6I8"
      }
    },
    {
      "cell_type": "code",
      "source": [
        "library(org.Hs.eg.db)\n",
        "keytypes(org.Hs.eg.db)\n",
        "k <- head(keys(org.Hs.eg.db, keytype = \"ENSEMBL\"), n = 3 )"
      ],
      "metadata": {
        "colab": {
          "base_uri": "https://localhost:8080/",
          "height": 69
        },
        "id": "ijSvV93VC1vp",
        "outputId": "26a0adcb-8ced-42e3-8e8e-974708cf7cf8"
      },
      "execution_count": null,
      "outputs": [
        {
          "output_type": "display_data",
          "data": {
            "text/html": [
              "<style>\n",
              ".list-inline {list-style: none; margin:0; padding: 0}\n",
              ".list-inline>li {display: inline-block}\n",
              ".list-inline>li:not(:last-child)::after {content: \"\\00b7\"; padding: 0 .5ex}\n",
              "</style>\n",
              "<ol class=list-inline><li>'ACCNUM'</li><li>'ALIAS'</li><li>'ENSEMBL'</li><li>'ENSEMBLPROT'</li><li>'ENSEMBLTRANS'</li><li>'ENTREZID'</li><li>'ENZYME'</li><li>'EVIDENCE'</li><li>'EVIDENCEALL'</li><li>'GENENAME'</li><li>'GENETYPE'</li><li>'GO'</li><li>'GOALL'</li><li>'IPI'</li><li>'MAP'</li><li>'OMIM'</li><li>'ONTOLOGY'</li><li>'ONTOLOGYALL'</li><li>'PATH'</li><li>'PFAM'</li><li>'PMID'</li><li>'PROSITE'</li><li>'REFSEQ'</li><li>'SYMBOL'</li><li>'UCSCKG'</li><li>'UNIPROT'</li></ol>\n"
            ],
            "text/markdown": "1. 'ACCNUM'\n2. 'ALIAS'\n3. 'ENSEMBL'\n4. 'ENSEMBLPROT'\n5. 'ENSEMBLTRANS'\n6. 'ENTREZID'\n7. 'ENZYME'\n8. 'EVIDENCE'\n9. 'EVIDENCEALL'\n10. 'GENENAME'\n11. 'GENETYPE'\n12. 'GO'\n13. 'GOALL'\n14. 'IPI'\n15. 'MAP'\n16. 'OMIM'\n17. 'ONTOLOGY'\n18. 'ONTOLOGYALL'\n19. 'PATH'\n20. 'PFAM'\n21. 'PMID'\n22. 'PROSITE'\n23. 'REFSEQ'\n24. 'SYMBOL'\n25. 'UCSCKG'\n26. 'UNIPROT'\n\n\n",
            "text/latex": "\\begin{enumerate*}\n\\item 'ACCNUM'\n\\item 'ALIAS'\n\\item 'ENSEMBL'\n\\item 'ENSEMBLPROT'\n\\item 'ENSEMBLTRANS'\n\\item 'ENTREZID'\n\\item 'ENZYME'\n\\item 'EVIDENCE'\n\\item 'EVIDENCEALL'\n\\item 'GENENAME'\n\\item 'GENETYPE'\n\\item 'GO'\n\\item 'GOALL'\n\\item 'IPI'\n\\item 'MAP'\n\\item 'OMIM'\n\\item 'ONTOLOGY'\n\\item 'ONTOLOGYALL'\n\\item 'PATH'\n\\item 'PFAM'\n\\item 'PMID'\n\\item 'PROSITE'\n\\item 'REFSEQ'\n\\item 'SYMBOL'\n\\item 'UCSCKG'\n\\item 'UNIPROT'\n\\end{enumerate*}\n",
            "text/plain": [
              " [1] \"ACCNUM\"       \"ALIAS\"        \"ENSEMBL\"      \"ENSEMBLPROT\"  \"ENSEMBLTRANS\"\n",
              " [6] \"ENTREZID\"     \"ENZYME\"       \"EVIDENCE\"     \"EVIDENCEALL\"  \"GENENAME\"    \n",
              "[11] \"GENETYPE\"     \"GO\"           \"GOALL\"        \"IPI\"          \"MAP\"         \n",
              "[16] \"OMIM\"         \"ONTOLOGY\"     \"ONTOLOGYALL\"  \"PATH\"         \"PFAM\"        \n",
              "[21] \"PMID\"         \"PROSITE\"      \"REFSEQ\"       \"SYMBOL\"       \"UCSCKG\"      \n",
              "[26] \"UNIPROT\"     "
            ]
          },
          "metadata": {}
        }
      ]
    },
    {
      "cell_type": "markdown",
      "source": [
        "**3.Запит інформації про домен**\n",
        "\n",
        "• Використовуючи функцію select(), надсилаємо запит до бази даних\n",
        "для отримання інформації про домен на основі наданих ключів.\n",
        "Зокрема, мета полягає в тому, щоб отримати ідентифікатори PFAM,\n",
        "пов’язаний з вибраними генами."
      ],
      "metadata": {
        "id": "xoPIDgu3aKGf"
      }
    },
    {
      "cell_type": "code",
      "source": [
        "result <- select(org.Hs.eg.db, keys = k, keytype=\"ENSEMBL\", columns\n",
        "= c(\"PFAM\"))\n",
        "result"
      ],
      "metadata": {
        "colab": {
          "base_uri": "https://localhost:8080/",
          "height": 415
        },
        "id": "2c88OdpkDqYZ",
        "outputId": "bdf9f914-0c11-4bb0-c01b-0de01dc34624"
      },
      "execution_count": null,
      "outputs": [
        {
          "output_type": "stream",
          "name": "stderr",
          "text": [
            "'select()' returned 1:many mapping between keys and columns\n",
            "\n"
          ]
        },
        {
          "output_type": "display_data",
          "data": {
            "text/html": [
              "<table class=\"dataframe\">\n",
              "<caption>A data.frame: 9 × 2</caption>\n",
              "<thead>\n",
              "\t<tr><th scope=col>ENSEMBL</th><th scope=col>PFAM</th></tr>\n",
              "\t<tr><th scope=col>&lt;chr&gt;</th><th scope=col>&lt;chr&gt;</th></tr>\n",
              "</thead>\n",
              "<tbody>\n",
              "\t<tr><td>ENSG00000121410</td><td>PF13895</td></tr>\n",
              "\t<tr><td>ENSG00000175899</td><td>PF07678</td></tr>\n",
              "\t<tr><td>ENSG00000175899</td><td>PF17791</td></tr>\n",
              "\t<tr><td>ENSG00000175899</td><td>PF07677</td></tr>\n",
              "\t<tr><td>ENSG00000175899</td><td>PF00207</td></tr>\n",
              "\t<tr><td>ENSG00000175899</td><td>PF17789</td></tr>\n",
              "\t<tr><td>ENSG00000175899</td><td>PF07703</td></tr>\n",
              "\t<tr><td>ENSG00000175899</td><td>PF01835</td></tr>\n",
              "\t<tr><td>ENSG00000291190</td><td>NA     </td></tr>\n",
              "</tbody>\n",
              "</table>\n"
            ],
            "text/markdown": "\nA data.frame: 9 × 2\n\n| ENSEMBL &lt;chr&gt; | PFAM &lt;chr&gt; |\n|---|---|\n| ENSG00000121410 | PF13895 |\n| ENSG00000175899 | PF07678 |\n| ENSG00000175899 | PF17791 |\n| ENSG00000175899 | PF07677 |\n| ENSG00000175899 | PF00207 |\n| ENSG00000175899 | PF17789 |\n| ENSG00000175899 | PF07703 |\n| ENSG00000175899 | PF01835 |\n| ENSG00000291190 | NA      |\n\n",
            "text/latex": "A data.frame: 9 × 2\n\\begin{tabular}{ll}\n ENSEMBL & PFAM\\\\\n <chr> & <chr>\\\\\n\\hline\n\t ENSG00000121410 & PF13895\\\\\n\t ENSG00000175899 & PF07678\\\\\n\t ENSG00000175899 & PF17791\\\\\n\t ENSG00000175899 & PF07677\\\\\n\t ENSG00000175899 & PF00207\\\\\n\t ENSG00000175899 & PF17789\\\\\n\t ENSG00000175899 & PF07703\\\\\n\t ENSG00000175899 & PF01835\\\\\n\t ENSG00000291190 & NA     \\\\\n\\end{tabular}\n",
            "text/plain": [
              "  ENSEMBL         PFAM   \n",
              "1 ENSG00000121410 PF13895\n",
              "2 ENSG00000175899 PF07678\n",
              "3 ENSG00000175899 PF17791\n",
              "4 ENSG00000175899 PF07677\n",
              "5 ENSG00000175899 PF00207\n",
              "6 ENSG00000175899 PF17789\n",
              "7 ENSG00000175899 PF07703\n",
              "8 ENSG00000175899 PF01835\n",
              "9 ENSG00000291190 NA     "
            ]
          },
          "metadata": {}
        }
      ]
    },
    {
      "cell_type": "markdown",
      "source": [
        "**4.Зіставлення ідентифікаторів PFAM з описами:**\n",
        "\n",
        "• Завантажуючи пакет PFAM.db, отримуємо доступ до об’єкта\n",
        "PFAMDE, який забезпечує зв’язок між ідентифікаторами PFAM та\n",
        "їхніми описами.\n",
        "\n",
        "• Вихідні дані демонструють список генів із відповідними\n",
        "ідентифікаторами PFAM та білками, для яких ці домени\n",
        "характерні."
      ],
      "metadata": {
        "id": "Ux_5w_8RaSIY"
      }
    },
    {
      "cell_type": "code",
      "source": [
        "if (!require(\"BiocManager\", quietly = TRUE))\n",
        "    install.packages(\"BiocManager\")\n",
        "\n",
        "BiocManager::install(\"PFAM.db\")"
      ],
      "metadata": {
        "colab": {
          "base_uri": "https://localhost:8080/"
        },
        "id": "--fGzkkdQcbc",
        "outputId": "80e6b3f4-c971-429e-ccb5-4255bfa921a8"
      },
      "execution_count": null,
      "outputs": [
        {
          "output_type": "stream",
          "name": "stderr",
          "text": [
            "'getOption(\"repos\")' replaces Bioconductor standard repositories, see\n",
            "'help(\"repositories\", package = \"BiocManager\")' for details.\n",
            "Replacement repositories:\n",
            "    CRAN: https://cran.rstudio.com\n",
            "\n",
            "Bioconductor version 3.18 (BiocManager 1.30.22), R 4.3.2 (2023-10-31)\n",
            "\n",
            "Installing package(s) 'PFAM.db'\n",
            "\n",
            "Old packages: 'bit', 'brio', 'bslib', 'cli', 'cpp11', 'curl', 'data.table',\n",
            "  'desc', 'devtools', 'fansi', 'gargle', 'gert', 'haven', 'highr', 'isoband',\n",
            "  'jsonlite', 'openssl', 'pkgbuild', 'processx', 'progress', 'ragg',\n",
            "  'roxygen2', 'sass', 'scales', 'stringi', 'svglite', 'testthat',\n",
            "  'textshaping', 'vctrs', 'vroom', 'whisker', 'xml2', 'yaml', 'boot',\n",
            "  'cluster', 'Matrix', 'nlme', 'rpart'\n",
            "\n"
          ]
        }
      ]
    },
    {
      "cell_type": "code",
      "source": [
        "library(PFAM.db)\n",
        "descriptions <- PFAMDE"
      ],
      "metadata": {
        "colab": {
          "base_uri": "https://localhost:8080/"
        },
        "id": "KtN0UHg3QmfD",
        "outputId": "b6fb584f-68d3-4bc4-cb8e-753526d36d65"
      },
      "execution_count": null,
      "outputs": [
        {
          "output_type": "stream",
          "name": "stderr",
          "text": [
            "\n",
            "\n"
          ]
        }
      ]
    },
    {
      "cell_type": "markdown",
      "source": [
        "**5.Отримання описів:**\n",
        "\n",
        "• Функція mappedkeys() отримує фактичні описи ідентифікаторів PFAM."
      ],
      "metadata": {
        "id": "0s_aRHVdagmI"
      }
    },
    {
      "cell_type": "code",
      "source": [
        "all_ids <- mappedkeys(descriptions)"
      ],
      "metadata": {
        "id": "gQ9s7aGiQvbL"
      },
      "execution_count": null,
      "outputs": []
    },
    {
      "cell_type": "markdown",
      "source": [
        "**6.Перетворення на data frame:**\n",
        "\n",
        "• Описи з попереднього кроку перетворюються на фрейм даних для\n",
        "полегшеного маніпулювання та об’єднання на наступному кроці."
      ],
      "metadata": {
        "id": "HY2glBDTapZp"
      }
    },
    {
      "cell_type": "code",
      "source": [
        "id_description_mapping <- as.data.frame(descriptions[all_ids])"
      ],
      "metadata": {
        "id": "cL3shR1SQw7M"
      },
      "execution_count": null,
      "outputs": []
    },
    {
      "cell_type": "code",
      "source": [
        "if (!require(\"BiocManager\", quietly = TRUE))\n",
        "BiocManager::install(\"Organism.dplyr\")"
      ],
      "metadata": {
        "id": "hGvq8-pDQ1JT"
      },
      "execution_count": null,
      "outputs": []
    },
    {
      "cell_type": "markdown",
      "source": [
        "**7.Об’єднання описів за допомогою ідентифікаторів**:\n",
        "\n",
        "• Функція dplyr::left_join співставляє та прикріплює описи доменів\n",
        "PFAM до їхніх відповідних ідентифікаторів.\n",
        "\n",
        "• В результаті отримуємо таблицю з доменами PFAM,\n",
        "відповідними генами, що їх кодують та білками, для яких ці\n",
        "домени характерні."
      ],
      "metadata": {
        "id": "gcblii37a6Tp"
      }
    },
    {
      "cell_type": "code",
      "source": [
        "dplyr::left_join(result, id_description_mapping, by = c(\"PFAM\" = \"ac\"))"
      ],
      "metadata": {
        "colab": {
          "base_uri": "https://localhost:8080/",
          "height": 380
        },
        "id": "A_AwWPz6Q87A",
        "outputId": "c3594236-a83f-41c1-8153-977431708322"
      },
      "execution_count": null,
      "outputs": [
        {
          "output_type": "display_data",
          "data": {
            "text/html": [
              "<table class=\"dataframe\">\n",
              "<caption>A data.frame: 9 × 3</caption>\n",
              "<thead>\n",
              "\t<tr><th scope=col>ENSEMBL</th><th scope=col>PFAM</th><th scope=col>de</th></tr>\n",
              "\t<tr><th scope=col>&lt;chr&gt;</th><th scope=col>&lt;chr&gt;</th><th scope=col>&lt;chr&gt;</th></tr>\n",
              "</thead>\n",
              "<tbody>\n",
              "\t<tr><td>ENSG00000121410</td><td>PF13895</td><td>Immunoglobulin domain                   </td></tr>\n",
              "\t<tr><td>ENSG00000175899</td><td>PF07678</td><td>A-macroglobulin TED domain              </td></tr>\n",
              "\t<tr><td>ENSG00000175899</td><td>PF17791</td><td>Macroglobulin domain MG3                </td></tr>\n",
              "\t<tr><td>ENSG00000175899</td><td>PF07677</td><td>A-macroglobulin receptor binding domain </td></tr>\n",
              "\t<tr><td>ENSG00000175899</td><td>PF00207</td><td>Alpha-2-macroglobulin family            </td></tr>\n",
              "\t<tr><td>ENSG00000175899</td><td>PF17789</td><td>Macroglobulin domain MG4                </td></tr>\n",
              "\t<tr><td>ENSG00000175899</td><td>PF07703</td><td>Alpha-2-macroglobulin bait region domain</td></tr>\n",
              "\t<tr><td>ENSG00000175899</td><td>PF01835</td><td>MG2 domain                              </td></tr>\n",
              "\t<tr><td>ENSG00000291190</td><td>NA     </td><td>NA                                      </td></tr>\n",
              "</tbody>\n",
              "</table>\n"
            ],
            "text/markdown": "\nA data.frame: 9 × 3\n\n| ENSEMBL &lt;chr&gt; | PFAM &lt;chr&gt; | de &lt;chr&gt; |\n|---|---|---|\n| ENSG00000121410 | PF13895 | Immunoglobulin domain                    |\n| ENSG00000175899 | PF07678 | A-macroglobulin TED domain               |\n| ENSG00000175899 | PF17791 | Macroglobulin domain MG3                 |\n| ENSG00000175899 | PF07677 | A-macroglobulin receptor binding domain  |\n| ENSG00000175899 | PF00207 | Alpha-2-macroglobulin family             |\n| ENSG00000175899 | PF17789 | Macroglobulin domain MG4                 |\n| ENSG00000175899 | PF07703 | Alpha-2-macroglobulin bait region domain |\n| ENSG00000175899 | PF01835 | MG2 domain                               |\n| ENSG00000291190 | NA      | NA                                       |\n\n",
            "text/latex": "A data.frame: 9 × 3\n\\begin{tabular}{lll}\n ENSEMBL & PFAM & de\\\\\n <chr> & <chr> & <chr>\\\\\n\\hline\n\t ENSG00000121410 & PF13895 & Immunoglobulin domain                   \\\\\n\t ENSG00000175899 & PF07678 & A-macroglobulin TED domain              \\\\\n\t ENSG00000175899 & PF17791 & Macroglobulin domain MG3                \\\\\n\t ENSG00000175899 & PF07677 & A-macroglobulin receptor binding domain \\\\\n\t ENSG00000175899 & PF00207 & Alpha-2-macroglobulin family            \\\\\n\t ENSG00000175899 & PF17789 & Macroglobulin domain MG4                \\\\\n\t ENSG00000175899 & PF07703 & Alpha-2-macroglobulin bait region domain\\\\\n\t ENSG00000175899 & PF01835 & MG2 domain                              \\\\\n\t ENSG00000291190 & NA      & NA                                      \\\\\n\\end{tabular}\n",
            "text/plain": [
              "  ENSEMBL         PFAM    de                                      \n",
              "1 ENSG00000121410 PF13895 Immunoglobulin domain                   \n",
              "2 ENSG00000175899 PF07678 A-macroglobulin TED domain              \n",
              "3 ENSG00000175899 PF17791 Macroglobulin domain MG3                \n",
              "4 ENSG00000175899 PF07677 A-macroglobulin receptor binding domain \n",
              "5 ENSG00000175899 PF00207 Alpha-2-macroglobulin family            \n",
              "6 ENSG00000175899 PF17789 Macroglobulin domain MG4                \n",
              "7 ENSG00000175899 PF07703 Alpha-2-macroglobulin bait region domain\n",
              "8 ENSG00000175899 PF01835 MG2 domain                              \n",
              "9 ENSG00000291190 NA      NA                                      "
            ]
          },
          "metadata": {}
        }
      ]
    },
    {
      "cell_type": "markdown",
      "source": [
        "# Aligning genomic length sequences with DECIPHER\n"
      ],
      "metadata": {
        "id": "UunvOMY1Rxb6"
      }
    },
    {
      "cell_type": "markdown",
      "source": [
        "Завантаження пакетів. Інсталюємо необхідні для роботи пакети (BiocManager,\n",
        "DECIPHER)"
      ],
      "metadata": {
        "id": "kXCkb8WxTADr"
      }
    },
    {
      "cell_type": "code",
      "source": [
        "if (!require(\"BiocManager\", quietly = TRUE))\n",
        "install.packages(\"BiocManager\")\n",
        "BiocManager::install(\"DECIPHER\")"
      ],
      "metadata": {
        "colab": {
          "base_uri": "https://localhost:8080/"
        },
        "id": "XFEF0wbOR9hh",
        "outputId": "a80f31b6-5dc4-4eb3-9e5b-7854ec69d56c"
      },
      "execution_count": null,
      "outputs": [
        {
          "output_type": "stream",
          "name": "stderr",
          "text": [
            "'getOption(\"repos\")' replaces Bioconductor standard repositories, see\n",
            "'help(\"repositories\", package = \"BiocManager\")' for details.\n",
            "Replacement repositories:\n",
            "    CRAN: https://cran.rstudio.com\n",
            "\n",
            "Bioconductor version 3.18 (BiocManager 1.30.22), R 4.3.2 (2023-10-31)\n",
            "\n",
            "Installing package(s) 'DECIPHER'\n",
            "\n",
            "Old packages: 'bit', 'brio', 'bslib', 'cli', 'cpp11', 'curl', 'data.table',\n",
            "  'desc', 'devtools', 'fansi', 'gargle', 'gert', 'haven', 'highr', 'isoband',\n",
            "  'jsonlite', 'openssl', 'pkgbuild', 'processx', 'progress', 'ragg',\n",
            "  'roxygen2', 'sass', 'scales', 'stringi', 'svglite', 'testthat',\n",
            "  'textshaping', 'vctrs', 'vroom', 'whisker', 'xml2', 'yaml', 'boot',\n",
            "  'cluster', 'Matrix', 'nlme', 'rpart'\n",
            "\n"
          ]
        }
      ]
    },
    {
      "cell_type": "markdown",
      "source": [
        "Завантаження послідовності. Імпортуємо dataset з досліджуваними\n",
        "послідовностями в об’єкт під назвою long_seqs, тип - DNAStringSet."
      ],
      "metadata": {
        "id": "8fIj2rDlYDU0"
      }
    },
    {
      "cell_type": "code",
      "source": [
        "library(DECIPHER)"
      ],
      "metadata": {
        "id": "CHiCeBXpY5lk"
      },
      "execution_count": null,
      "outputs": []
    },
    {
      "cell_type": "code",
      "source": [
        "long_seqs <- readDNAStringSet(file.path(getwd(),\"Desktop\", \"datasets\", \"ch3\",\"plastid_genomes.fa\"))\n",
        "long_seqs"
      ],
      "metadata": {
        "colab": {
          "base_uri": "https://localhost:8080/",
          "height": 488
        },
        "id": "dx3RMu1Jbi4f",
        "outputId": "70fd1d8f-e86a-4ed7-d026-458681bf70fe"
      },
      "execution_count": null,
      "outputs": [
        {
          "output_type": "error",
          "ename": "ERROR",
          "evalue": "ignored",
          "traceback": [
            "Error in .Call2(\"new_input_filexp\", filepath, PACKAGE = \"XVector\"): cannot open file '/content/Desktop/datasets/ch3/plastid_genomes.fa'\nTraceback:\n",
            "1. readDNAStringSet(file.path(getwd(), \"Desktop\", \"datasets\", \"ch3\", \n .     \"plastid_genomes.fa\"))",
            "2. .read_XStringSet(filepath, format, nrec, skip, seek.first.rec, \n .     use.names, \"DNA\", with.qualities)",
            "3. fasta.index(filepath, nrec = nrec, skip = skip, seek.first.rec = seek.first.rec, \n .     seqtype = seqtype)",
            "4. open_input_files(filepath)",
            "5. lapply(filepath2, function(fp) {\n .     filexp <- new_input_filexp(fp)\n .     reg.finalizer(filexp, close_filexp, onexit = TRUE)\n .     filexp\n . })",
            "6. lapply(filepath2, function(fp) {\n .     filexp <- new_input_filexp(fp)\n .     reg.finalizer(filexp, close_filexp, onexit = TRUE)\n .     filexp\n . })",
            "7. FUN(X[[i]], ...)",
            "8. new_input_filexp(fp)",
            "9. .Call2(\"new_input_filexp\", filepath, PACKAGE = \"XVector\")"
          ]
        }
      ]
    },
    {
      "cell_type": "markdown",
      "source": [
        "# **Machine learning for novel feature detection in proteins**"
      ],
      "metadata": {
        "id": "FqUWtMC7evTn"
      }
    },
    {
      "cell_type": "code",
      "source": [
        "if (!require(\"BiocManager\", quietly = TRUE))\n",
        "install.packages(\"BiocManager\")\n",
        "BiocManager::install(\"Biostrings\")\n",
        "if (!require(\"BiocManager\", quietly = TRUE))\n",
        "install.packages(\"BiocManager\")\n",
        "BiocManager::install(\"kebabs\")\n",
        "library(kebabs)\n",
        "library(Biostrings)\n",
        "\n",
        "seqs <- readAAStringSet(file.path(getwd(), \"datasets\", \"ch3\", \"ecoli_proteins.fa\"))\n",
        "classes <- readr::read_csv(file.path(getwd(), \"datasets\", \"ch3\", \"ecoli_protein_classes.txt\"), col_names = TRUE)\n",
        "classes <- classes$class\n",
        "\n",
        "\n",
        "num_seqs <- length(seqs)\n",
        "\n",
        "training_proportion <- 0.75\n",
        "training_set_indices <- sample(1:num_seqs, training_proportion * num_seqs)\n",
        "test_set_indices <- c(1:num_seqs)[-training_set_indices]\n",
        "\n",
        "kernel <- gappyPairKernel(k=1, m=3)\n",
        "\n",
        "model <- kbsvm(x=seqs[training_set_indices], y=classes[training_set_indices], kernel=kernel, pkg=\"e1071\", svm=\"C-svc\", cost=15)\n",
        "\n",
        "predictions <- predict(model, seqs[test_set_indices])\n",
        "evaluatePrediction(predictions, classes[test_set_indices], allLabels=c(1,-1) )\n",
        "\n",
        "\n",
        "##predict sites in sequence\n",
        "\n",
        "seq_to_test <- seqs[[1]][1:10]\n",
        "seq_to_test\n",
        "\n",
        "prediction_profile <-getPredictionProfile(seq_to_test, kernel, featureWeights(model), modelOffset(model) )\n",
        "plot(prediction_profile)"
      ],
      "metadata": {
        "id": "2GOX4cjHeskm"
      },
      "execution_count": null,
      "outputs": []
    },
    {
      "cell_type": "code",
      "source": [
        "if (!require(\"BiocManager\", quietly = TRUE))\n",
        "  install.packages(\"BiocManager\")\n",
        "  BiocManager::install(\"kebabs\")"
      ],
      "metadata": {
        "colab": {
          "base_uri": "https://localhost:8080/"
        },
        "id": "5NLmQoMNkeq4",
        "outputId": "4d15ee25-7308-4633-9c8a-d03616747ab5"
      },
      "execution_count": null,
      "outputs": [
        {
          "output_type": "stream",
          "name": "stderr",
          "text": [
            "'getOption(\"repos\")' replaces Bioconductor standard repositories, see\n",
            "'help(\"repositories\", package = \"BiocManager\")' for details.\n",
            "Replacement repositories:\n",
            "    CRAN: https://cran.rstudio.com\n",
            "\n",
            "Bioconductor version 3.18 (BiocManager 1.30.22), R 4.3.2 (2023-10-31)\n",
            "\n",
            "Installing package(s) 'kebabs'\n",
            "\n",
            "also installing the dependencies ‘proxy’, ‘kernlab’, ‘e1071’, ‘LiblineaR’, ‘apcluster’\n",
            "\n",
            "\n",
            "Old packages: 'bit', 'brio', 'bslib', 'cli', 'cpp11', 'curl', 'data.table',\n",
            "  'desc', 'devtools', 'fansi', 'gargle', 'gert', 'haven', 'highr', 'isoband',\n",
            "  'jsonlite', 'openssl', 'pkgbuild', 'processx', 'progress', 'ragg',\n",
            "  'roxygen2', 'sass', 'scales', 'stringi', 'svglite', 'testthat',\n",
            "  'textshaping', 'vctrs', 'vroom', 'whisker', 'xml2', 'yaml', 'boot',\n",
            "  'cluster', 'Matrix', 'nlme', 'rpart'\n",
            "\n"
          ]
        }
      ]
    },
    {
      "cell_type": "code",
      "source": [
        "if (!require(\"BiocManager\", quietly = TRUE))\n",
        "  install.packages(\"BiocManager\")\n",
        "  BiocManager::install(\"Biostrings\")"
      ],
      "metadata": {
        "colab": {
          "base_uri": "https://localhost:8080/"
        },
        "id": "XtWfZQK3e7lc",
        "outputId": "4efb00ad-52e2-4bfe-d27d-324d191bd9e7"
      },
      "execution_count": null,
      "outputs": [
        {
          "output_type": "stream",
          "name": "stderr",
          "text": [
            "'getOption(\"repos\")' replaces Bioconductor standard repositories, see\n",
            "'help(\"repositories\", package = \"BiocManager\")' for details.\n",
            "Replacement repositories:\n",
            "    CRAN: https://cran.rstudio.com\n",
            "\n",
            "Bioconductor version 3.18 (BiocManager 1.30.22), R 4.3.2 (2023-10-31)\n",
            "\n",
            "Warning message:\n",
            "“package(s) not installed when version(s) same as or greater than current; use\n",
            "  `force = TRUE` to re-install: 'Biostrings'”\n",
            "Old packages: 'bit', 'brio', 'bslib', 'cli', 'cpp11', 'curl', 'data.table',\n",
            "  'desc', 'devtools', 'fansi', 'gargle', 'gert', 'haven', 'highr', 'isoband',\n",
            "  'jsonlite', 'openssl', 'pkgbuild', 'processx', 'progress', 'ragg',\n",
            "  'roxygen2', 'sass', 'scales', 'stringi', 'svglite', 'testthat',\n",
            "  'textshaping', 'vctrs', 'vroom', 'whisker', 'xml2', 'yaml', 'boot',\n",
            "  'cluster', 'Matrix', 'nlme', 'rpart'\n",
            "\n"
          ]
        }
      ]
    },
    {
      "cell_type": "code",
      "source": [
        "library(kebabs)\n",
        "library(Biostrings)"
      ],
      "metadata": {
        "colab": {
          "base_uri": "https://localhost:8080/"
        },
        "id": "I5NT74RzlIDO",
        "outputId": "c5eb0574-9f60-430c-e2b3-112ad32e5502"
      },
      "execution_count": null,
      "outputs": [
        {
          "output_type": "stream",
          "name": "stderr",
          "text": [
            "Loading required package: kernlab\n",
            "\n",
            "\n",
            "Attaching package: ‘kernlab’\n",
            "\n",
            "\n",
            "The following object is masked from ‘package:Biostrings’:\n",
            "\n",
            "    type\n",
            "\n",
            "\n",
            "The following object is masked from ‘package:BiocGenerics’:\n",
            "\n",
            "    type\n",
            "\n",
            "\n"
          ]
        }
      ]
    },
    {
      "cell_type": "code",
      "source": [
        "seqs <- readAAStringSet(file.path(setwd(\"C:/Users/my comp2/OneDrive/Рабочий стол\"), \"ecoli_proteins.fa\"))\n",
        "classes <- readr::read_csv(file.path(setwd(\"C:/Users/my comp2/OneDrive/Рабочий стол\"), \"ecoli_protein_classes.txt\"), col_names = TRUE)\n",
        "classes <- classes$class"
      ],
      "metadata": {
        "colab": {
          "base_uri": "https://localhost:8080/",
          "height": 262
        },
        "id": "ats3uJEBlpk1",
        "outputId": "4568a0e7-f065-442d-da01-c32a71a12e79"
      },
      "execution_count": null,
      "outputs": [
        {
          "output_type": "error",
          "ename": "ERROR",
          "evalue": "ignored",
          "traceback": [
            "Error in setwd(\"C:/Users/my comp2/OneDrive/Рабочий стол\"): cannot change working directory\nTraceback:\n",
            "1. readAAStringSet(file.path(setwd(\"C:/Users/my comp2/OneDrive/Рабочий стол\"), \n .     \"ecoli_proteins.fa\"))",
            "2. .read_XStringSet(filepath, format, nrec, skip, seek.first.rec, \n .     use.names, \"AA\", with.qualities)",
            "3. .is_filexp_list(filepath)",
            "4. file.path(setwd(\"C:/Users/my comp2/OneDrive/Рабочий стол\"), \n .     \"ecoli_proteins.fa\")",
            "5. setwd(\"C:/Users/my comp2/OneDrive/Рабочий стол\")"
          ]
        }
      ]
    },
    {
      "cell_type": "code",
      "source": [
        "\n",
        "install.packages(\"usethis\")\n",
        "library(usethis)\n",
        "\n",
        "\n",
        "repo_url <- \"https://github.com/PacktPublishing/R-Bioinformatics-Cookbook.git\"\n",
        "\n",
        "\n",
        "system(sprintf(\"git clone %s\", repo_url), intern = TRUE)"
      ],
      "metadata": {
        "colab": {
          "base_uri": "https://localhost:8080/",
          "height": 104
        },
        "id": "aR9ANbXD4qSj",
        "outputId": "5350fdd5-9369-47cf-be40-80db709e4f4e"
      },
      "execution_count": null,
      "outputs": [
        {
          "output_type": "stream",
          "name": "stderr",
          "text": [
            "Installing package into ‘/usr/local/lib/R/site-library’\n",
            "(as ‘lib’ is unspecified)\n",
            "\n",
            "Warning message in system(sprintf(\"git clone %s\", repo_url), intern = TRUE):\n",
            "“running command 'git clone https://github.com/PacktPublishing/R-Bioinformatics-Cookbook.git' had status 128”\n"
          ]
        },
        {
          "output_type": "display_data",
          "data": {
            "text/html": [],
            "text/markdown": "",
            "text/latex": "",
            "text/plain": [
              "character(0)\n",
              "attr(,\"status\")\n",
              "[1] 128\n",
              "attr(,\"errmsg\")\n",
              "[1] \"Resource temporarily unavailable\""
            ]
          },
          "metadata": {}
        }
      ]
    },
    {
      "cell_type": "code",
      "source": [
        "setwd('/content/R-Bioinformatics-Cookbook')\n"
      ],
      "metadata": {
        "id": "VtDL6Y3VoOfB"
      },
      "execution_count": null,
      "outputs": []
    },
    {
      "cell_type": "code",
      "source": [
        "if (!requireNamespace(\"BiocManager\", quietly = TRUE))\n",
        "  install.packages(\"BiocManager\")\n",
        "BiocManager::install(\"ape\")\n",
        "\n",
        "library(ape)\n",
        "\n",
        "newick <- read.tree(file.path(getwd(), \"datasets\", \"ch4\", \"mammal_tree.nwk\"))\n",
        "l <- subtrees(newick)\n",
        "plot(newick)\n",
        "plot(l[[4]], sub = \"Node 4\")\n",
        "\n",
        "small_tree <- extract.clade(newick, 9)\n",
        "\n",
        "new_tree <- bind.tree(newick, small_tree, 3)\n",
        "plot(new_tree)\n"
      ],
      "metadata": {
        "id": "4cEgprHxcQ_R"
      },
      "execution_count": null,
      "outputs": []
    },
    {
      "cell_type": "markdown",
      "source": [
        "**Finding unannotated transcribed regions**"
      ],
      "metadata": {
        "id": "WMbKobq2azjo"
      }
    },
    {
      "cell_type": "code",
      "source": [
        "if (!require(\"BiocManager\", quietly = TRUE))\n",
        "    install.packages(\"BiocManager\")\n",
        "BiocManager::install(\"SummarizedExperiment\")\n",
        "BiocManager::install(\"IRanges\")\n",
        "BiocManager::install(\"csaw\")\n",
        "BiocManager::install(\"rtracklayer\")\n",
        "get_annotated_regions_from_gff <- function(file_name) {\n",
        "  gff <- rtracklayer::import.gff(file_name)\n",
        "  as(gff, \"GRanges\")\n",
        "}\n",
        "\n",
        "get_annotated_regions_from_bed <- function(file_name){\n",
        "  bed <- rtracklayer::import.bed(file_name)\n",
        "  as(bed, \"GRanges\")\n",
        "}\n",
        "\n",
        "#get counts in windows across whole genome\n",
        "whole_genome <- csaw::windowCounts(\n",
        "    file.path(getwd(), \"datasets\", \"ch1\", \"windows.bam\"),\n",
        "    bin = TRUE,\n",
        "    filter = 0,\n",
        "    width = 500,\n",
        "    param = csaw::readParam(\n",
        "        minq = 20,\n",
        "        dedup = TRUE,\n",
        "        pe = \"both\"\n",
        "    )\n",
        ")\n",
        "colnames(whole_genome) <- c(\"small_data\")\n",
        "\n",
        "#make a GRanges object of the annotated features\n",
        "annotated_regions <- get_annotated_regions_from_gff(file.path(getwd(), \"datasets\", \"ch1\", \"genes.gff\"))\n",
        "\n",
        "\n",
        "library(IRanges)\n",
        "library(SummarizedExperiment)\n",
        "#find the overlaps between the windows we made\n",
        "windows_in_genes <-IRanges::overlapsAny(\n",
        "  SummarizedExperiment::rowRanges(whole_genome),\n",
        "  annotated_regions\n",
        ")\n",
        "\n",
        "annotated_window_counts <- whole_genome[windows_in_genes,]\n",
        "non_annotated_window_counts <- whole_genome[ ! windows_in_genes,]\n",
        "\n",
        "\n",
        "assay(annotated_window_counts)"
      ],
      "metadata": {
        "colab": {
          "base_uri": "https://localhost:8080/",
          "height": 1000
        },
        "id": "HuWrIqsoW2Ze",
        "outputId": "14356301-d019-4e9b-dc02-647369258376"
      },
      "execution_count": null,
      "outputs": [
        {
          "output_type": "stream",
          "name": "stderr",
          "text": [
            "'getOption(\"repos\")' replaces Bioconductor standard repositories, see\n",
            "'help(\"repositories\", package = \"BiocManager\")' for details.\n",
            "Replacement repositories:\n",
            "    CRAN: https://cran.rstudio.com\n",
            "\n",
            "Bioconductor version 3.18 (BiocManager 1.30.22), R 4.3.2 (2023-10-31)\n",
            "\n",
            "Warning message:\n",
            "“package(s) not installed when version(s) same as or greater than current; use\n",
            "  `force = TRUE` to re-install: 'SummarizedExperiment'”\n",
            "Old packages: 'bit', 'brew', 'brio', 'bslib', 'cli', 'cpp11', 'curl',\n",
            "  'data.table', 'desc', 'devtools', 'fansi', 'gargle', 'gert', 'haven',\n",
            "  'highr', 'isoband', 'jsonlite', 'openssl', 'pkgbuild', 'processx',\n",
            "  'progress', 'ragg', 'roxygen2', 'sass', 'scales', 'stringi', 'svglite',\n",
            "  'testthat', 'textshaping', 'vctrs', 'vroom', 'whisker', 'xml2', 'yaml',\n",
            "  'boot', 'cluster', 'Matrix', 'nlme', 'rpart'\n",
            "\n",
            "'getOption(\"repos\")' replaces Bioconductor standard repositories, see\n",
            "'help(\"repositories\", package = \"BiocManager\")' for details.\n",
            "Replacement repositories:\n",
            "    CRAN: https://cran.rstudio.com\n",
            "\n",
            "Bioconductor version 3.18 (BiocManager 1.30.22), R 4.3.2 (2023-10-31)\n",
            "\n",
            "Warning message:\n",
            "“package(s) not installed when version(s) same as or greater than current; use\n",
            "  `force = TRUE` to re-install: 'IRanges'”\n",
            "Old packages: 'bit', 'brew', 'brio', 'bslib', 'cli', 'cpp11', 'curl',\n",
            "  'data.table', 'desc', 'devtools', 'fansi', 'gargle', 'gert', 'haven',\n",
            "  'highr', 'isoband', 'jsonlite', 'openssl', 'pkgbuild', 'processx',\n",
            "  'progress', 'ragg', 'roxygen2', 'sass', 'scales', 'stringi', 'svglite',\n",
            "  'testthat', 'textshaping', 'vctrs', 'vroom', 'whisker', 'xml2', 'yaml',\n",
            "  'boot', 'cluster', 'Matrix', 'nlme', 'rpart'\n",
            "\n",
            "'getOption(\"repos\")' replaces Bioconductor standard repositories, see\n",
            "'help(\"repositories\", package = \"BiocManager\")' for details.\n",
            "Replacement repositories:\n",
            "    CRAN: https://cran.rstudio.com\n",
            "\n",
            "Bioconductor version 3.18 (BiocManager 1.30.22), R 4.3.2 (2023-10-31)\n",
            "\n",
            "Warning message:\n",
            "“package(s) not installed when version(s) same as or greater than current; use\n",
            "  `force = TRUE` to re-install: 'csaw'”\n",
            "Old packages: 'bit', 'brew', 'brio', 'bslib', 'cli', 'cpp11', 'curl',\n",
            "  'data.table', 'desc', 'devtools', 'fansi', 'gargle', 'gert', 'haven',\n",
            "  'highr', 'isoband', 'jsonlite', 'openssl', 'pkgbuild', 'processx',\n",
            "  'progress', 'ragg', 'roxygen2', 'sass', 'scales', 'stringi', 'svglite',\n",
            "  'testthat', 'textshaping', 'vctrs', 'vroom', 'whisker', 'xml2', 'yaml',\n",
            "  'boot', 'cluster', 'Matrix', 'nlme', 'rpart'\n",
            "\n",
            "'getOption(\"repos\")' replaces Bioconductor standard repositories, see\n",
            "'help(\"repositories\", package = \"BiocManager\")' for details.\n",
            "Replacement repositories:\n",
            "    CRAN: https://cran.rstudio.com\n",
            "\n",
            "Bioconductor version 3.18 (BiocManager 1.30.22), R 4.3.2 (2023-10-31)\n",
            "\n",
            "Installing package(s) 'rtracklayer'\n",
            "\n",
            "also installing the dependencies ‘rjson’, ‘XML’, ‘GenomicAlignments’, ‘BiocIO’, ‘restfulr’\n",
            "\n",
            "\n",
            "Old packages: 'bit', 'brew', 'brio', 'bslib', 'cli', 'cpp11', 'curl',\n",
            "  'data.table', 'desc', 'devtools', 'fansi', 'gargle', 'gert', 'haven',\n",
            "  'highr', 'isoband', 'jsonlite', 'openssl', 'pkgbuild', 'processx',\n",
            "  'progress', 'ragg', 'roxygen2', 'sass', 'scales', 'stringi', 'svglite',\n",
            "  'testthat', 'textshaping', 'vctrs', 'vroom', 'whisker', 'xml2', 'yaml',\n",
            "  'boot', 'cluster', 'Matrix', 'nlme', 'rpart'\n",
            "\n",
            "Loading required package: BiocGenerics\n",
            "\n",
            "\n",
            "Attaching package: ‘BiocGenerics’\n",
            "\n",
            "\n",
            "The following objects are masked from ‘package:stats’:\n",
            "\n",
            "    IQR, mad, sd, var, xtabs\n",
            "\n",
            "\n",
            "The following objects are masked from ‘package:base’:\n",
            "\n",
            "    anyDuplicated, aperm, append, as.data.frame, basename, cbind,\n",
            "    colnames, dirname, do.call, duplicated, eval, evalq, Filter, Find,\n",
            "    get, grep, grepl, intersect, is.unsorted, lapply, Map, mapply,\n",
            "    match, mget, order, paste, pmax, pmax.int, pmin, pmin.int,\n",
            "    Position, rank, rbind, Reduce, rownames, sapply, setdiff, sort,\n",
            "    table, tapply, union, unique, unsplit, which.max, which.min\n",
            "\n",
            "\n",
            "Loading required package: S4Vectors\n",
            "\n",
            "Loading required package: stats4\n",
            "\n",
            "\n",
            "Attaching package: ‘S4Vectors’\n",
            "\n",
            "\n",
            "The following object is masked from ‘package:utils’:\n",
            "\n",
            "    findMatches\n",
            "\n",
            "\n",
            "The following objects are masked from ‘package:base’:\n",
            "\n",
            "    expand.grid, I, unname\n",
            "\n",
            "\n",
            "Loading required package: MatrixGenerics\n",
            "\n",
            "Loading required package: matrixStats\n",
            "\n",
            "\n",
            "Attaching package: ‘MatrixGenerics’\n",
            "\n",
            "\n",
            "The following objects are masked from ‘package:matrixStats’:\n",
            "\n",
            "    colAlls, colAnyNAs, colAnys, colAvgsPerRowSet, colCollapse,\n",
            "    colCounts, colCummaxs, colCummins, colCumprods, colCumsums,\n",
            "    colDiffs, colIQRDiffs, colIQRs, colLogSumExps, colMadDiffs,\n",
            "    colMads, colMaxs, colMeans2, colMedians, colMins, colOrderStats,\n",
            "    colProds, colQuantiles, colRanges, colRanks, colSdDiffs, colSds,\n",
            "    colSums2, colTabulates, colVarDiffs, colVars, colWeightedMads,\n",
            "    colWeightedMeans, colWeightedMedians, colWeightedSds,\n",
            "    colWeightedVars, rowAlls, rowAnyNAs, rowAnys, rowAvgsPerColSet,\n",
            "    rowCollapse, rowCounts, rowCummaxs, rowCummins, rowCumprods,\n",
            "    rowCumsums, rowDiffs, rowIQRDiffs, rowIQRs, rowLogSumExps,\n",
            "    rowMadDiffs, rowMads, rowMaxs, rowMeans2, rowMedians, rowMins,\n",
            "    rowOrderStats, rowProds, rowQuantiles, rowRanges, rowRanks,\n",
            "    rowSdDiffs, rowSds, rowSums2, rowTabulates, rowVarDiffs, rowVars,\n",
            "    rowWeightedMads, rowWeightedMeans, rowWeightedMedians,\n",
            "    rowWeightedSds, rowWeightedVars\n",
            "\n",
            "\n",
            "Loading required package: GenomicRanges\n",
            "\n",
            "Loading required package: GenomeInfoDb\n",
            "\n",
            "Loading required package: Biobase\n",
            "\n",
            "Welcome to Bioconductor\n",
            "\n",
            "    Vignettes contain introductory material; view with\n",
            "    'browseVignettes()'. To cite Bioconductor, see\n",
            "    'citation(\"Biobase\")', and for packages 'citation(\"pkgname\")'.\n",
            "\n",
            "\n",
            "\n",
            "Attaching package: ‘Biobase’\n",
            "\n",
            "\n",
            "The following object is masked from ‘package:MatrixGenerics’:\n",
            "\n",
            "    rowMedians\n",
            "\n",
            "\n",
            "The following objects are masked from ‘package:matrixStats’:\n",
            "\n",
            "    anyMissing, rowMedians\n",
            "\n",
            "\n"
          ]
        },
        {
          "output_type": "display_data",
          "data": {
            "text/html": [
              "<table class=\"dataframe\">\n",
              "<caption>A matrix: 6 × 1 of type int</caption>\n",
              "<thead>\n",
              "\t<tr><th scope=col>small_data</th></tr>\n",
              "</thead>\n",
              "<tbody>\n",
              "\t<tr><td> 0</td></tr>\n",
              "\t<tr><td>31</td></tr>\n",
              "\t<tr><td>25</td></tr>\n",
              "\t<tr><td> 0</td></tr>\n",
              "\t<tr><td>28</td></tr>\n",
              "\t<tr><td>31</td></tr>\n",
              "</tbody>\n",
              "</table>\n"
            ],
            "text/markdown": "\nA matrix: 6 × 1 of type int\n\n| small_data |\n|---|\n|  0 |\n| 31 |\n| 25 |\n|  0 |\n| 28 |\n| 31 |\n\n",
            "text/latex": "A matrix: 6 × 1 of type int\n\\begin{tabular}{l}\n small\\_data\\\\\n\\hline\n\t  0\\\\\n\t 31\\\\\n\t 25\\\\\n\t  0\\\\\n\t 28\\\\\n\t 31\\\\\n\\end{tabular}\n",
            "text/plain": [
              "     small_data\n",
              "[1,]  0        \n",
              "[2,] 31        \n",
              "[3,] 25        \n",
              "[4,]  0        \n",
              "[5,] 28        \n",
              "[6,] 31        "
            ]
          },
          "metadata": {}
        }
      ]
    },
    {
      "cell_type": "code",
      "source": [],
      "metadata": {
        "id": "ccR979UuZGgs"
      },
      "execution_count": null,
      "outputs": []
    }
  ]
}